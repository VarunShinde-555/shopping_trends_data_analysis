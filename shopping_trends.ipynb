{
 "cells": [
  {
   "cell_type": "code",
   "execution_count": 1,
   "id": "80beeda7-6901-4a36-9d53-7974a0a0b3a3",
   "metadata": {},
   "outputs": [],
   "source": [
    "import pandas as pd\n",
    "import numpy as np\n",
    "import matplotlib.pyplot as plt\n",
    "import seaborn as sns\n",
    "\n",
    "import warnings\n",
    "warnings.filterwarnings('ignore')"
   ]
  },
  {
   "cell_type": "code",
   "execution_count": 2,
   "id": "1d199de3-262b-4258-a193-c1d85a0c776a",
   "metadata": {},
   "outputs": [],
   "source": [
    "shopping_trends_df=pd.read_csv(r\"C:\\Users\\Varun\\Downloads\\shopping_trends.csv\")"
   ]
  },
  {
   "cell_type": "code",
   "execution_count": 3,
   "id": "e5b5ac1f-c6ce-4ffc-8f72-0183f4701307",
   "metadata": {},
   "outputs": [
    {
     "data": {
      "text/html": [
       "<div>\n",
       "<style scoped>\n",
       "    .dataframe tbody tr th:only-of-type {\n",
       "        vertical-align: middle;\n",
       "    }\n",
       "\n",
       "    .dataframe tbody tr th {\n",
       "        vertical-align: top;\n",
       "    }\n",
       "\n",
       "    .dataframe thead th {\n",
       "        text-align: right;\n",
       "    }\n",
       "</style>\n",
       "<table border=\"1\" class=\"dataframe\">\n",
       "  <thead>\n",
       "    <tr style=\"text-align: right;\">\n",
       "      <th></th>\n",
       "      <th>Customer ID</th>\n",
       "      <th>Age</th>\n",
       "      <th>Gender</th>\n",
       "      <th>Item Purchased</th>\n",
       "      <th>Category</th>\n",
       "      <th>Purchase Amount (USD)</th>\n",
       "      <th>Location</th>\n",
       "      <th>Size</th>\n",
       "      <th>Color</th>\n",
       "      <th>Season</th>\n",
       "      <th>Review Rating</th>\n",
       "      <th>Subscription Status</th>\n",
       "      <th>Payment Method</th>\n",
       "      <th>Shipping Type</th>\n",
       "      <th>Discount Applied</th>\n",
       "      <th>Promo Code Used</th>\n",
       "      <th>Previous Purchases</th>\n",
       "      <th>Preferred Payment Method</th>\n",
       "      <th>Frequency of Purchases</th>\n",
       "    </tr>\n",
       "  </thead>\n",
       "  <tbody>\n",
       "    <tr>\n",
       "      <th>0</th>\n",
       "      <td>1</td>\n",
       "      <td>55</td>\n",
       "      <td>Male</td>\n",
       "      <td>Blouse</td>\n",
       "      <td>Clothing</td>\n",
       "      <td>53</td>\n",
       "      <td>Kentucky</td>\n",
       "      <td>L</td>\n",
       "      <td>Gray</td>\n",
       "      <td>Winter</td>\n",
       "      <td>3.1</td>\n",
       "      <td>Yes</td>\n",
       "      <td>Credit Card</td>\n",
       "      <td>Express</td>\n",
       "      <td>Yes</td>\n",
       "      <td>Yes</td>\n",
       "      <td>14</td>\n",
       "      <td>Venmo</td>\n",
       "      <td>Fortnightly</td>\n",
       "    </tr>\n",
       "    <tr>\n",
       "      <th>1</th>\n",
       "      <td>2</td>\n",
       "      <td>19</td>\n",
       "      <td>Male</td>\n",
       "      <td>Sweater</td>\n",
       "      <td>Clothing</td>\n",
       "      <td>64</td>\n",
       "      <td>Maine</td>\n",
       "      <td>L</td>\n",
       "      <td>Maroon</td>\n",
       "      <td>Winter</td>\n",
       "      <td>3.1</td>\n",
       "      <td>Yes</td>\n",
       "      <td>Bank Transfer</td>\n",
       "      <td>Express</td>\n",
       "      <td>Yes</td>\n",
       "      <td>Yes</td>\n",
       "      <td>2</td>\n",
       "      <td>Cash</td>\n",
       "      <td>Fortnightly</td>\n",
       "    </tr>\n",
       "    <tr>\n",
       "      <th>2</th>\n",
       "      <td>3</td>\n",
       "      <td>50</td>\n",
       "      <td>Male</td>\n",
       "      <td>Jeans</td>\n",
       "      <td>Clothing</td>\n",
       "      <td>73</td>\n",
       "      <td>Massachusetts</td>\n",
       "      <td>S</td>\n",
       "      <td>Maroon</td>\n",
       "      <td>Spring</td>\n",
       "      <td>3.1</td>\n",
       "      <td>Yes</td>\n",
       "      <td>Cash</td>\n",
       "      <td>Free Shipping</td>\n",
       "      <td>Yes</td>\n",
       "      <td>Yes</td>\n",
       "      <td>23</td>\n",
       "      <td>Credit Card</td>\n",
       "      <td>Weekly</td>\n",
       "    </tr>\n",
       "    <tr>\n",
       "      <th>3</th>\n",
       "      <td>4</td>\n",
       "      <td>21</td>\n",
       "      <td>Male</td>\n",
       "      <td>Sandals</td>\n",
       "      <td>Footwear</td>\n",
       "      <td>90</td>\n",
       "      <td>Rhode Island</td>\n",
       "      <td>M</td>\n",
       "      <td>Maroon</td>\n",
       "      <td>Spring</td>\n",
       "      <td>3.5</td>\n",
       "      <td>Yes</td>\n",
       "      <td>PayPal</td>\n",
       "      <td>Next Day Air</td>\n",
       "      <td>Yes</td>\n",
       "      <td>Yes</td>\n",
       "      <td>49</td>\n",
       "      <td>PayPal</td>\n",
       "      <td>Weekly</td>\n",
       "    </tr>\n",
       "    <tr>\n",
       "      <th>4</th>\n",
       "      <td>5</td>\n",
       "      <td>45</td>\n",
       "      <td>Male</td>\n",
       "      <td>Blouse</td>\n",
       "      <td>Clothing</td>\n",
       "      <td>49</td>\n",
       "      <td>Oregon</td>\n",
       "      <td>M</td>\n",
       "      <td>Turquoise</td>\n",
       "      <td>Spring</td>\n",
       "      <td>2.7</td>\n",
       "      <td>Yes</td>\n",
       "      <td>Cash</td>\n",
       "      <td>Free Shipping</td>\n",
       "      <td>Yes</td>\n",
       "      <td>Yes</td>\n",
       "      <td>31</td>\n",
       "      <td>PayPal</td>\n",
       "      <td>Annually</td>\n",
       "    </tr>\n",
       "    <tr>\n",
       "      <th>...</th>\n",
       "      <td>...</td>\n",
       "      <td>...</td>\n",
       "      <td>...</td>\n",
       "      <td>...</td>\n",
       "      <td>...</td>\n",
       "      <td>...</td>\n",
       "      <td>...</td>\n",
       "      <td>...</td>\n",
       "      <td>...</td>\n",
       "      <td>...</td>\n",
       "      <td>...</td>\n",
       "      <td>...</td>\n",
       "      <td>...</td>\n",
       "      <td>...</td>\n",
       "      <td>...</td>\n",
       "      <td>...</td>\n",
       "      <td>...</td>\n",
       "      <td>...</td>\n",
       "      <td>...</td>\n",
       "    </tr>\n",
       "    <tr>\n",
       "      <th>3895</th>\n",
       "      <td>3896</td>\n",
       "      <td>40</td>\n",
       "      <td>Female</td>\n",
       "      <td>Hoodie</td>\n",
       "      <td>Clothing</td>\n",
       "      <td>28</td>\n",
       "      <td>Virginia</td>\n",
       "      <td>L</td>\n",
       "      <td>Turquoise</td>\n",
       "      <td>Summer</td>\n",
       "      <td>4.2</td>\n",
       "      <td>No</td>\n",
       "      <td>Cash</td>\n",
       "      <td>2-Day Shipping</td>\n",
       "      <td>No</td>\n",
       "      <td>No</td>\n",
       "      <td>32</td>\n",
       "      <td>Venmo</td>\n",
       "      <td>Weekly</td>\n",
       "    </tr>\n",
       "    <tr>\n",
       "      <th>3896</th>\n",
       "      <td>3897</td>\n",
       "      <td>52</td>\n",
       "      <td>Female</td>\n",
       "      <td>Backpack</td>\n",
       "      <td>Accessories</td>\n",
       "      <td>49</td>\n",
       "      <td>Iowa</td>\n",
       "      <td>L</td>\n",
       "      <td>White</td>\n",
       "      <td>Spring</td>\n",
       "      <td>4.5</td>\n",
       "      <td>No</td>\n",
       "      <td>PayPal</td>\n",
       "      <td>Store Pickup</td>\n",
       "      <td>No</td>\n",
       "      <td>No</td>\n",
       "      <td>41</td>\n",
       "      <td>Bank Transfer</td>\n",
       "      <td>Bi-Weekly</td>\n",
       "    </tr>\n",
       "    <tr>\n",
       "      <th>3897</th>\n",
       "      <td>3898</td>\n",
       "      <td>46</td>\n",
       "      <td>Female</td>\n",
       "      <td>Belt</td>\n",
       "      <td>Accessories</td>\n",
       "      <td>33</td>\n",
       "      <td>New Jersey</td>\n",
       "      <td>L</td>\n",
       "      <td>Green</td>\n",
       "      <td>Spring</td>\n",
       "      <td>2.9</td>\n",
       "      <td>No</td>\n",
       "      <td>Credit Card</td>\n",
       "      <td>Standard</td>\n",
       "      <td>No</td>\n",
       "      <td>No</td>\n",
       "      <td>24</td>\n",
       "      <td>Venmo</td>\n",
       "      <td>Quarterly</td>\n",
       "    </tr>\n",
       "    <tr>\n",
       "      <th>3898</th>\n",
       "      <td>3899</td>\n",
       "      <td>44</td>\n",
       "      <td>Female</td>\n",
       "      <td>Shoes</td>\n",
       "      <td>Footwear</td>\n",
       "      <td>77</td>\n",
       "      <td>Minnesota</td>\n",
       "      <td>S</td>\n",
       "      <td>Brown</td>\n",
       "      <td>Summer</td>\n",
       "      <td>3.8</td>\n",
       "      <td>No</td>\n",
       "      <td>PayPal</td>\n",
       "      <td>Express</td>\n",
       "      <td>No</td>\n",
       "      <td>No</td>\n",
       "      <td>24</td>\n",
       "      <td>Venmo</td>\n",
       "      <td>Weekly</td>\n",
       "    </tr>\n",
       "    <tr>\n",
       "      <th>3899</th>\n",
       "      <td>3900</td>\n",
       "      <td>52</td>\n",
       "      <td>Female</td>\n",
       "      <td>Handbag</td>\n",
       "      <td>Accessories</td>\n",
       "      <td>81</td>\n",
       "      <td>California</td>\n",
       "      <td>M</td>\n",
       "      <td>Beige</td>\n",
       "      <td>Spring</td>\n",
       "      <td>3.1</td>\n",
       "      <td>No</td>\n",
       "      <td>Bank Transfer</td>\n",
       "      <td>Store Pickup</td>\n",
       "      <td>No</td>\n",
       "      <td>No</td>\n",
       "      <td>33</td>\n",
       "      <td>Venmo</td>\n",
       "      <td>Quarterly</td>\n",
       "    </tr>\n",
       "  </tbody>\n",
       "</table>\n",
       "<p>3900 rows × 19 columns</p>\n",
       "</div>"
      ],
      "text/plain": [
       "      Customer ID  Age  Gender Item Purchased     Category  \\\n",
       "0               1   55    Male         Blouse     Clothing   \n",
       "1               2   19    Male        Sweater     Clothing   \n",
       "2               3   50    Male          Jeans     Clothing   \n",
       "3               4   21    Male        Sandals     Footwear   \n",
       "4               5   45    Male         Blouse     Clothing   \n",
       "...           ...  ...     ...            ...          ...   \n",
       "3895         3896   40  Female         Hoodie     Clothing   \n",
       "3896         3897   52  Female       Backpack  Accessories   \n",
       "3897         3898   46  Female           Belt  Accessories   \n",
       "3898         3899   44  Female          Shoes     Footwear   \n",
       "3899         3900   52  Female        Handbag  Accessories   \n",
       "\n",
       "      Purchase Amount (USD)       Location Size      Color  Season  \\\n",
       "0                        53       Kentucky    L       Gray  Winter   \n",
       "1                        64          Maine    L     Maroon  Winter   \n",
       "2                        73  Massachusetts    S     Maroon  Spring   \n",
       "3                        90   Rhode Island    M     Maroon  Spring   \n",
       "4                        49         Oregon    M  Turquoise  Spring   \n",
       "...                     ...            ...  ...        ...     ...   \n",
       "3895                     28       Virginia    L  Turquoise  Summer   \n",
       "3896                     49           Iowa    L      White  Spring   \n",
       "3897                     33     New Jersey    L      Green  Spring   \n",
       "3898                     77      Minnesota    S      Brown  Summer   \n",
       "3899                     81     California    M      Beige  Spring   \n",
       "\n",
       "      Review Rating Subscription Status Payment Method   Shipping Type  \\\n",
       "0               3.1                 Yes    Credit Card         Express   \n",
       "1               3.1                 Yes  Bank Transfer         Express   \n",
       "2               3.1                 Yes           Cash   Free Shipping   \n",
       "3               3.5                 Yes         PayPal    Next Day Air   \n",
       "4               2.7                 Yes           Cash   Free Shipping   \n",
       "...             ...                 ...            ...             ...   \n",
       "3895            4.2                  No           Cash  2-Day Shipping   \n",
       "3896            4.5                  No         PayPal    Store Pickup   \n",
       "3897            2.9                  No    Credit Card        Standard   \n",
       "3898            3.8                  No         PayPal         Express   \n",
       "3899            3.1                  No  Bank Transfer    Store Pickup   \n",
       "\n",
       "     Discount Applied Promo Code Used  Previous Purchases  \\\n",
       "0                 Yes             Yes                  14   \n",
       "1                 Yes             Yes                   2   \n",
       "2                 Yes             Yes                  23   \n",
       "3                 Yes             Yes                  49   \n",
       "4                 Yes             Yes                  31   \n",
       "...               ...             ...                 ...   \n",
       "3895               No              No                  32   \n",
       "3896               No              No                  41   \n",
       "3897               No              No                  24   \n",
       "3898               No              No                  24   \n",
       "3899               No              No                  33   \n",
       "\n",
       "     Preferred Payment Method Frequency of Purchases  \n",
       "0                       Venmo            Fortnightly  \n",
       "1                        Cash            Fortnightly  \n",
       "2                 Credit Card                 Weekly  \n",
       "3                      PayPal                 Weekly  \n",
       "4                      PayPal               Annually  \n",
       "...                       ...                    ...  \n",
       "3895                    Venmo                 Weekly  \n",
       "3896            Bank Transfer              Bi-Weekly  \n",
       "3897                    Venmo              Quarterly  \n",
       "3898                    Venmo                 Weekly  \n",
       "3899                    Venmo              Quarterly  \n",
       "\n",
       "[3900 rows x 19 columns]"
      ]
     },
     "execution_count": 3,
     "metadata": {},
     "output_type": "execute_result"
    }
   ],
   "source": [
    "shopping_trends_df"
   ]
  },
  {
   "cell_type": "code",
   "execution_count": 4,
   "id": "1a47886d-7bec-48a4-a91a-a9499e995b5e",
   "metadata": {},
   "outputs": [
    {
     "data": {
      "text/html": [
       "<div>\n",
       "<style scoped>\n",
       "    .dataframe tbody tr th:only-of-type {\n",
       "        vertical-align: middle;\n",
       "    }\n",
       "\n",
       "    .dataframe tbody tr th {\n",
       "        vertical-align: top;\n",
       "    }\n",
       "\n",
       "    .dataframe thead th {\n",
       "        text-align: right;\n",
       "    }\n",
       "</style>\n",
       "<table border=\"1\" class=\"dataframe\">\n",
       "  <thead>\n",
       "    <tr style=\"text-align: right;\">\n",
       "      <th></th>\n",
       "      <th>Customer ID</th>\n",
       "      <th>Age</th>\n",
       "      <th>Purchase Amount (USD)</th>\n",
       "      <th>Review Rating</th>\n",
       "      <th>Previous Purchases</th>\n",
       "    </tr>\n",
       "  </thead>\n",
       "  <tbody>\n",
       "    <tr>\n",
       "      <th>count</th>\n",
       "      <td>3900.000000</td>\n",
       "      <td>3900.000000</td>\n",
       "      <td>3900.000000</td>\n",
       "      <td>3900.000000</td>\n",
       "      <td>3900.000000</td>\n",
       "    </tr>\n",
       "    <tr>\n",
       "      <th>mean</th>\n",
       "      <td>1950.500000</td>\n",
       "      <td>44.068462</td>\n",
       "      <td>59.764359</td>\n",
       "      <td>3.749949</td>\n",
       "      <td>25.351538</td>\n",
       "    </tr>\n",
       "    <tr>\n",
       "      <th>std</th>\n",
       "      <td>1125.977353</td>\n",
       "      <td>15.207589</td>\n",
       "      <td>23.685392</td>\n",
       "      <td>0.716223</td>\n",
       "      <td>14.447125</td>\n",
       "    </tr>\n",
       "    <tr>\n",
       "      <th>min</th>\n",
       "      <td>1.000000</td>\n",
       "      <td>18.000000</td>\n",
       "      <td>20.000000</td>\n",
       "      <td>2.500000</td>\n",
       "      <td>1.000000</td>\n",
       "    </tr>\n",
       "    <tr>\n",
       "      <th>25%</th>\n",
       "      <td>975.750000</td>\n",
       "      <td>31.000000</td>\n",
       "      <td>39.000000</td>\n",
       "      <td>3.100000</td>\n",
       "      <td>13.000000</td>\n",
       "    </tr>\n",
       "    <tr>\n",
       "      <th>50%</th>\n",
       "      <td>1950.500000</td>\n",
       "      <td>44.000000</td>\n",
       "      <td>60.000000</td>\n",
       "      <td>3.700000</td>\n",
       "      <td>25.000000</td>\n",
       "    </tr>\n",
       "    <tr>\n",
       "      <th>75%</th>\n",
       "      <td>2925.250000</td>\n",
       "      <td>57.000000</td>\n",
       "      <td>81.000000</td>\n",
       "      <td>4.400000</td>\n",
       "      <td>38.000000</td>\n",
       "    </tr>\n",
       "    <tr>\n",
       "      <th>max</th>\n",
       "      <td>3900.000000</td>\n",
       "      <td>70.000000</td>\n",
       "      <td>100.000000</td>\n",
       "      <td>5.000000</td>\n",
       "      <td>50.000000</td>\n",
       "    </tr>\n",
       "  </tbody>\n",
       "</table>\n",
       "</div>"
      ],
      "text/plain": [
       "       Customer ID          Age  Purchase Amount (USD)  Review Rating  \\\n",
       "count  3900.000000  3900.000000            3900.000000    3900.000000   \n",
       "mean   1950.500000    44.068462              59.764359       3.749949   \n",
       "std    1125.977353    15.207589              23.685392       0.716223   \n",
       "min       1.000000    18.000000              20.000000       2.500000   \n",
       "25%     975.750000    31.000000              39.000000       3.100000   \n",
       "50%    1950.500000    44.000000              60.000000       3.700000   \n",
       "75%    2925.250000    57.000000              81.000000       4.400000   \n",
       "max    3900.000000    70.000000             100.000000       5.000000   \n",
       "\n",
       "       Previous Purchases  \n",
       "count         3900.000000  \n",
       "mean            25.351538  \n",
       "std             14.447125  \n",
       "min              1.000000  \n",
       "25%             13.000000  \n",
       "50%             25.000000  \n",
       "75%             38.000000  \n",
       "max             50.000000  "
      ]
     },
     "execution_count": 4,
     "metadata": {},
     "output_type": "execute_result"
    }
   ],
   "source": [
    "shopping_trends_df.describe()"
   ]
  },
  {
   "cell_type": "code",
   "execution_count": 5,
   "id": "e4ae95f1-5ee4-4271-a480-88dec22dc2e7",
   "metadata": {},
   "outputs": [
    {
     "name": "stdout",
     "output_type": "stream",
     "text": [
      "<class 'pandas.core.frame.DataFrame'>\n",
      "RangeIndex: 3900 entries, 0 to 3899\n",
      "Data columns (total 19 columns):\n",
      " #   Column                    Non-Null Count  Dtype  \n",
      "---  ------                    --------------  -----  \n",
      " 0   Customer ID               3900 non-null   int64  \n",
      " 1   Age                       3900 non-null   int64  \n",
      " 2   Gender                    3900 non-null   object \n",
      " 3   Item Purchased            3900 non-null   object \n",
      " 4   Category                  3900 non-null   object \n",
      " 5   Purchase Amount (USD)     3900 non-null   int64  \n",
      " 6   Location                  3900 non-null   object \n",
      " 7   Size                      3900 non-null   object \n",
      " 8   Color                     3900 non-null   object \n",
      " 9   Season                    3900 non-null   object \n",
      " 10  Review Rating             3900 non-null   float64\n",
      " 11  Subscription Status       3900 non-null   object \n",
      " 12  Payment Method            3900 non-null   object \n",
      " 13  Shipping Type             3900 non-null   object \n",
      " 14  Discount Applied          3900 non-null   object \n",
      " 15  Promo Code Used           3900 non-null   object \n",
      " 16  Previous Purchases        3900 non-null   int64  \n",
      " 17  Preferred Payment Method  3900 non-null   object \n",
      " 18  Frequency of Purchases    3900 non-null   object \n",
      "dtypes: float64(1), int64(4), object(14)\n",
      "memory usage: 579.0+ KB\n"
     ]
    }
   ],
   "source": [
    "shopping_trends_df.info()"
   ]
  },
  {
   "cell_type": "code",
   "execution_count": 6,
   "id": "08505c28-d342-49fb-89c4-d84b6329745f",
   "metadata": {},
   "outputs": [
    {
     "data": {
      "text/plain": [
       "Index(['Customer ID', 'Age', 'Gender', 'Item Purchased', 'Category',\n",
       "       'Purchase Amount (USD)', 'Location', 'Size', 'Color', 'Season',\n",
       "       'Review Rating', 'Subscription Status', 'Payment Method',\n",
       "       'Shipping Type', 'Discount Applied', 'Promo Code Used',\n",
       "       'Previous Purchases', 'Preferred Payment Method',\n",
       "       'Frequency of Purchases'],\n",
       "      dtype='object')"
      ]
     },
     "execution_count": 6,
     "metadata": {},
     "output_type": "execute_result"
    }
   ],
   "source": [
    "shopping_trends_df.columns"
   ]
  },
  {
   "cell_type": "code",
   "execution_count": 7,
   "id": "b306ca30-dbd7-4109-8384-3c9153c2809d",
   "metadata": {},
   "outputs": [],
   "source": [
    "CategoryType=shopping_trends_df['Category'].unique()"
   ]
  },
  {
   "cell_type": "code",
   "execution_count": 8,
   "id": "2f2782ae-6483-420e-9c25-9b1b7a9dc416",
   "metadata": {},
   "outputs": [
    {
     "data": {
      "text/plain": [
       "array(['Clothing', 'Footwear', 'Outerwear', 'Accessories'], dtype=object)"
      ]
     },
     "execution_count": 8,
     "metadata": {},
     "output_type": "execute_result"
    }
   ],
   "source": [
    "CategoryType"
   ]
  },
  {
   "cell_type": "code",
   "execution_count": 9,
   "id": "827dc50b-7906-4eed-858a-da9aa4993628",
   "metadata": {},
   "outputs": [],
   "source": [
    "SeasonType=shopping_trends_df['Season'].unique()"
   ]
  },
  {
   "cell_type": "code",
   "execution_count": 10,
   "id": "fe43771c-9f75-4571-b71f-f69728cc7a9c",
   "metadata": {},
   "outputs": [
    {
     "data": {
      "text/plain": [
       "array(['Winter', 'Spring', 'Summer', 'Fall'], dtype=object)"
      ]
     },
     "execution_count": 10,
     "metadata": {},
     "output_type": "execute_result"
    }
   ],
   "source": [
    "SeasonType"
   ]
  },
  {
   "cell_type": "code",
   "execution_count": 11,
   "id": "4558c1f0-20ee-4a06-8bc3-77f63878036f",
   "metadata": {},
   "outputs": [],
   "source": [
    "PaymentMethodType=shopping_trends_df['Payment Method'].unique()"
   ]
  },
  {
   "cell_type": "code",
   "execution_count": 12,
   "id": "2c834df0-1644-4794-981f-9f6b0341559f",
   "metadata": {},
   "outputs": [
    {
     "data": {
      "text/plain": [
       "array(['Credit Card', 'Bank Transfer', 'Cash', 'PayPal', 'Venmo',\n",
       "       'Debit Card'], dtype=object)"
      ]
     },
     "execution_count": 12,
     "metadata": {},
     "output_type": "execute_result"
    }
   ],
   "source": [
    "PaymentMethodType"
   ]
  },
  {
   "cell_type": "code",
   "execution_count": 13,
   "id": "b770842b-21ce-439f-b5f7-f23ecd790d22",
   "metadata": {},
   "outputs": [],
   "source": [
    "CategoryTypeItemCount=shopping_trends_df['Category'].value_counts()"
   ]
  },
  {
   "cell_type": "code",
   "execution_count": 14,
   "id": "e54155a9-6021-4919-bd59-55f953a99efd",
   "metadata": {},
   "outputs": [
    {
     "data": {
      "text/plain": [
       "Category\n",
       "Clothing       1737\n",
       "Accessories    1240\n",
       "Footwear        599\n",
       "Outerwear       324\n",
       "Name: count, dtype: int64"
      ]
     },
     "execution_count": 14,
     "metadata": {},
     "output_type": "execute_result"
    }
   ],
   "source": [
    "CategoryTypeItemCount"
   ]
  },
  {
   "cell_type": "code",
   "execution_count": 15,
   "id": "4c29ce67-ba63-444d-9b4c-1fce2e77fa7c",
   "metadata": {},
   "outputs": [],
   "source": [
    "TotalPurchaseAmount_USD=shopping_trends_df['Purchase Amount (USD)'].sum()"
   ]
  },
  {
   "cell_type": "code",
   "execution_count": 16,
   "id": "2a226573-f480-4285-90c8-a523e558ccb0",
   "metadata": {},
   "outputs": [
    {
     "data": {
      "text/plain": [
       "233081"
      ]
     },
     "execution_count": 16,
     "metadata": {},
     "output_type": "execute_result"
    }
   ],
   "source": [
    "TotalPurchaseAmount_USD"
   ]
  },
  {
   "cell_type": "code",
   "execution_count": 17,
   "id": "8aa41e9f-2087-41d6-84b4-603414e78351",
   "metadata": {},
   "outputs": [],
   "source": [
    "TypeOfClothing=shopping_trends_df[shopping_trends_df['Category']=='Clothing']['Item Purchased'].unique()"
   ]
  },
  {
   "cell_type": "code",
   "execution_count": 18,
   "id": "9c1eba95-8f52-45ef-8fda-780231b95323",
   "metadata": {},
   "outputs": [
    {
     "data": {
      "text/plain": [
       "array(['Blouse', 'Sweater', 'Jeans', 'Shirt', 'Shorts', 'Dress', 'Skirt',\n",
       "       'Pants', 'Hoodie', 'T-shirt', 'Socks'], dtype=object)"
      ]
     },
     "execution_count": 18,
     "metadata": {},
     "output_type": "execute_result"
    }
   ],
   "source": [
    "TypeOfClothing"
   ]
  },
  {
   "cell_type": "code",
   "execution_count": 19,
   "id": "dfa670b7-fcb2-44d9-a790-409438a08d9c",
   "metadata": {},
   "outputs": [],
   "source": [
    "ClothingCategoryItemCount=shopping_trends_df[shopping_trends_df['Category']=='Clothing']['Item Purchased'].value_counts()"
   ]
  },
  {
   "cell_type": "code",
   "execution_count": 20,
   "id": "5c280f4b-be93-482e-bf9a-8d0506e49f8e",
   "metadata": {},
   "outputs": [
    {
     "data": {
      "text/plain": [
       "Item Purchased\n",
       "Blouse     171\n",
       "Pants      171\n",
       "Shirt      169\n",
       "Dress      166\n",
       "Sweater    164\n",
       "Socks      159\n",
       "Skirt      158\n",
       "Shorts     157\n",
       "Hoodie     151\n",
       "T-shirt    147\n",
       "Jeans      124\n",
       "Name: count, dtype: int64"
      ]
     },
     "execution_count": 20,
     "metadata": {},
     "output_type": "execute_result"
    }
   ],
   "source": [
    "ClothingCategoryItemCount"
   ]
  },
  {
   "cell_type": "code",
   "execution_count": 21,
   "id": "330adcf1-c903-421a-9f66-0a716c109135",
   "metadata": {},
   "outputs": [],
   "source": [
    "TotalPurchaseAmountClothingCategory=shopping_trends_df[shopping_trends_df['Category']=='Clothing']['Purchase Amount (USD)'].sum()"
   ]
  },
  {
   "cell_type": "code",
   "execution_count": 22,
   "id": "8d79cf64-8dc4-4040-bea2-de619403596a",
   "metadata": {},
   "outputs": [
    {
     "data": {
      "text/plain": [
       "104264"
      ]
     },
     "execution_count": 22,
     "metadata": {},
     "output_type": "execute_result"
    }
   ],
   "source": [
    "TotalPurchaseAmountClothingCategory"
   ]
  },
  {
   "cell_type": "code",
   "execution_count": 23,
   "id": "f36ad751-6f3f-47e3-86a3-f522e4501f50",
   "metadata": {},
   "outputs": [],
   "source": [
    "TypeOfFootwear=shopping_trends_df[shopping_trends_df['Category']=='Footwear']['Item Purchased'].unique()"
   ]
  },
  {
   "cell_type": "code",
   "execution_count": 24,
   "id": "30dbe57f-ec47-4f66-b229-2a4a4f5fead5",
   "metadata": {},
   "outputs": [
    {
     "data": {
      "text/plain": [
       "array(['Sandals', 'Sneakers', 'Shoes', 'Boots'], dtype=object)"
      ]
     },
     "execution_count": 24,
     "metadata": {},
     "output_type": "execute_result"
    }
   ],
   "source": [
    "TypeOfFootwear"
   ]
  },
  {
   "cell_type": "code",
   "execution_count": 25,
   "id": "7186c8fe-c5f2-4e0c-8ab3-e10d7b455584",
   "metadata": {},
   "outputs": [],
   "source": [
    "FootwearCategoryItemCount=shopping_trends_df[shopping_trends_df['Category']=='Footwear']['Item Purchased'].value_counts()"
   ]
  },
  {
   "cell_type": "code",
   "execution_count": 26,
   "id": "0937c1a0-5201-485d-82b8-3caa31390da9",
   "metadata": {},
   "outputs": [
    {
     "data": {
      "text/plain": [
       "Item Purchased\n",
       "Sandals     160\n",
       "Shoes       150\n",
       "Sneakers    145\n",
       "Boots       144\n",
       "Name: count, dtype: int64"
      ]
     },
     "execution_count": 26,
     "metadata": {},
     "output_type": "execute_result"
    }
   ],
   "source": [
    "FootwearCategoryItemCount"
   ]
  },
  {
   "cell_type": "code",
   "execution_count": 27,
   "id": "d04c0cab-4e40-42eb-80c2-d8e5a01ba6d9",
   "metadata": {},
   "outputs": [],
   "source": [
    "TotalPurchaseAmountFootwearCategory=shopping_trends_df[shopping_trends_df['Category']=='Footwear']['Purchase Amount (USD)'].sum()"
   ]
  },
  {
   "cell_type": "code",
   "execution_count": 28,
   "id": "2f3509d1-e302-419c-bda8-a4300eca8edd",
   "metadata": {},
   "outputs": [
    {
     "data": {
      "text/plain": [
       "36093"
      ]
     },
     "execution_count": 28,
     "metadata": {},
     "output_type": "execute_result"
    }
   ],
   "source": [
    "TotalPurchaseAmountFootwearCategory"
   ]
  },
  {
   "cell_type": "code",
   "execution_count": 29,
   "id": "c007e441-4bab-4c75-8099-340b8a16a268",
   "metadata": {},
   "outputs": [],
   "source": [
    "TypeOfOuterwear=shopping_trends_df[shopping_trends_df['Category']=='Outerwear']['Item Purchased'].unique()"
   ]
  },
  {
   "cell_type": "code",
   "execution_count": 30,
   "id": "c9a5b5cb-356a-4ef8-b92b-3ffecbe96665",
   "metadata": {},
   "outputs": [
    {
     "data": {
      "text/plain": [
       "array(['Coat', 'Jacket'], dtype=object)"
      ]
     },
     "execution_count": 30,
     "metadata": {},
     "output_type": "execute_result"
    }
   ],
   "source": [
    "TypeOfOuterwear"
   ]
  },
  {
   "cell_type": "code",
   "execution_count": 31,
   "id": "cbd94f17-1fde-422d-be67-69102eb48da4",
   "metadata": {},
   "outputs": [],
   "source": [
    "OuterwearCategoryItemCount=shopping_trends_df[shopping_trends_df['Category']=='Outerwear']['Item Purchased'].value_counts()"
   ]
  },
  {
   "cell_type": "code",
   "execution_count": 32,
   "id": "bd25f2fb-f33a-4a32-afc4-3a5f1b432666",
   "metadata": {},
   "outputs": [
    {
     "data": {
      "text/plain": [
       "Item Purchased\n",
       "Jacket    163\n",
       "Coat      161\n",
       "Name: count, dtype: int64"
      ]
     },
     "execution_count": 32,
     "metadata": {},
     "output_type": "execute_result"
    }
   ],
   "source": [
    "OuterwearCategoryItemCount"
   ]
  },
  {
   "cell_type": "code",
   "execution_count": 33,
   "id": "810302df-efac-493d-af0c-6e6190d36e1b",
   "metadata": {},
   "outputs": [],
   "source": [
    "TotalPurchaseAmountOuterwearCategory=shopping_trends_df[shopping_trends_df['Category']=='Outerwear']['Purchase Amount (USD)'].sum()"
   ]
  },
  {
   "cell_type": "code",
   "execution_count": 34,
   "id": "5beda3c2-ebbb-4ff3-9c08-cc35b611a464",
   "metadata": {},
   "outputs": [
    {
     "data": {
      "text/plain": [
       "18524"
      ]
     },
     "execution_count": 34,
     "metadata": {},
     "output_type": "execute_result"
    }
   ],
   "source": [
    "TotalPurchaseAmountOuterwearCategory"
   ]
  },
  {
   "cell_type": "code",
   "execution_count": 35,
   "id": "009808ec-3c4b-4a64-9ec9-8aea6204a169",
   "metadata": {},
   "outputs": [],
   "source": [
    "TypeOfAccessories=shopping_trends_df[shopping_trends_df['Category']=='Accessories']['Item Purchased'].unique()"
   ]
  },
  {
   "cell_type": "code",
   "execution_count": 36,
   "id": "83ac1c67-00f0-4b21-92a0-2e28403408e3",
   "metadata": {},
   "outputs": [
    {
     "data": {
      "text/plain": [
       "array(['Handbag', 'Sunglasses', 'Jewelry', 'Scarf', 'Hat', 'Backpack',\n",
       "       'Belt', 'Gloves'], dtype=object)"
      ]
     },
     "execution_count": 36,
     "metadata": {},
     "output_type": "execute_result"
    }
   ],
   "source": [
    "TypeOfAccessories"
   ]
  },
  {
   "cell_type": "code",
   "execution_count": 37,
   "id": "a075b81d-9599-4ce9-a54e-88f92bcacf23",
   "metadata": {},
   "outputs": [],
   "source": [
    "AccessoriesCategoryItemCount=shopping_trends_df[shopping_trends_df['Category']=='Accessories']['Item Purchased'].value_counts()"
   ]
  },
  {
   "cell_type": "code",
   "execution_count": 38,
   "id": "b41d9726-d6ff-460b-b35a-035fcd83548b",
   "metadata": {},
   "outputs": [
    {
     "data": {
      "text/plain": [
       "Item Purchased\n",
       "Jewelry       171\n",
       "Sunglasses    161\n",
       "Belt          161\n",
       "Scarf         157\n",
       "Hat           154\n",
       "Handbag       153\n",
       "Backpack      143\n",
       "Gloves        140\n",
       "Name: count, dtype: int64"
      ]
     },
     "execution_count": 38,
     "metadata": {},
     "output_type": "execute_result"
    }
   ],
   "source": [
    "AccessoriesCategoryItemCount"
   ]
  },
  {
   "cell_type": "code",
   "execution_count": 39,
   "id": "9f2a5ea2-d7d2-473c-80a0-be00f0184158",
   "metadata": {},
   "outputs": [],
   "source": [
    "TotalPurchaseAmountAccessoriesCategory=shopping_trends_df[shopping_trends_df['Category']=='Accessories']['Purchase Amount (USD)'].sum()"
   ]
  },
  {
   "cell_type": "code",
   "execution_count": 40,
   "id": "63d64109-9164-4160-86a8-f7bf651fc8e3",
   "metadata": {},
   "outputs": [
    {
     "data": {
      "text/plain": [
       "74200"
      ]
     },
     "execution_count": 40,
     "metadata": {},
     "output_type": "execute_result"
    }
   ],
   "source": [
    "TotalPurchaseAmountAccessoriesCategory"
   ]
  },
  {
   "cell_type": "code",
   "execution_count": 41,
   "id": "10d80147-4b5a-46af-ab8a-60b0ca0c5611",
   "metadata": {},
   "outputs": [
    {
     "name": "stdout",
     "output_type": "stream",
     "text": [
      "<class 'pandas.core.series.Series'>\n"
     ]
    }
   ],
   "source": [
    "print(type(AccessoriesCategoryItemCount))"
   ]
  },
  {
   "cell_type": "code",
   "execution_count": 42,
   "id": "ad6e57b0-dcf8-4bfe-8953-a703bf9359cc",
   "metadata": {},
   "outputs": [],
   "source": [
    "# Get Category Wise purchase and Percentage\n",
    "Categorydct=dict()\n",
    "\n",
    "for i in CategoryType:\n",
    "    Categorydct.update({i:shopping_trends_df[shopping_trends_df['Category']==i]['Purchase Amount (USD)'].sum()})\n",
    "\n",
    "CategoryWisePurchase=pd.DataFrame(list(Categorydct.items()),columns=['Category','Purchase Amount (USD)'])"
   ]
  },
  {
   "cell_type": "code",
   "execution_count": 43,
   "id": "aadbaf6d-6e17-4179-a1ae-1cf40e5b5417",
   "metadata": {},
   "outputs": [
    {
     "data": {
      "text/html": [
       "<div>\n",
       "<style scoped>\n",
       "    .dataframe tbody tr th:only-of-type {\n",
       "        vertical-align: middle;\n",
       "    }\n",
       "\n",
       "    .dataframe tbody tr th {\n",
       "        vertical-align: top;\n",
       "    }\n",
       "\n",
       "    .dataframe thead th {\n",
       "        text-align: right;\n",
       "    }\n",
       "</style>\n",
       "<table border=\"1\" class=\"dataframe\">\n",
       "  <thead>\n",
       "    <tr style=\"text-align: right;\">\n",
       "      <th></th>\n",
       "      <th>Category</th>\n",
       "      <th>Purchase Amount (USD)</th>\n",
       "    </tr>\n",
       "  </thead>\n",
       "  <tbody>\n",
       "    <tr>\n",
       "      <th>0</th>\n",
       "      <td>Clothing</td>\n",
       "      <td>104264</td>\n",
       "    </tr>\n",
       "    <tr>\n",
       "      <th>1</th>\n",
       "      <td>Footwear</td>\n",
       "      <td>36093</td>\n",
       "    </tr>\n",
       "    <tr>\n",
       "      <th>2</th>\n",
       "      <td>Outerwear</td>\n",
       "      <td>18524</td>\n",
       "    </tr>\n",
       "    <tr>\n",
       "      <th>3</th>\n",
       "      <td>Accessories</td>\n",
       "      <td>74200</td>\n",
       "    </tr>\n",
       "  </tbody>\n",
       "</table>\n",
       "</div>"
      ],
      "text/plain": [
       "      Category  Purchase Amount (USD)\n",
       "0     Clothing                 104264\n",
       "1     Footwear                  36093\n",
       "2    Outerwear                  18524\n",
       "3  Accessories                  74200"
      ]
     },
     "execution_count": 43,
     "metadata": {},
     "output_type": "execute_result"
    }
   ],
   "source": [
    "CategoryWisePurchase"
   ]
  },
  {
   "cell_type": "code",
   "execution_count": 44,
   "id": "1395c4b3-fdf3-4be4-8814-e8c12e9095d1",
   "metadata": {},
   "outputs": [],
   "source": [
    "# get percentage of purchase for each category\n",
    "CategoryWisePurchase['% Purchase']=[round((i/TotalPurchaseAmount_USD)*100,2) for i in CategoryWisePurchase['Purchase Amount (USD)']]"
   ]
  },
  {
   "cell_type": "code",
   "execution_count": 45,
   "id": "241e0e60-f210-42c6-868f-cbfa3e1141aa",
   "metadata": {},
   "outputs": [
    {
     "data": {
      "text/html": [
       "<div>\n",
       "<style scoped>\n",
       "    .dataframe tbody tr th:only-of-type {\n",
       "        vertical-align: middle;\n",
       "    }\n",
       "\n",
       "    .dataframe tbody tr th {\n",
       "        vertical-align: top;\n",
       "    }\n",
       "\n",
       "    .dataframe thead th {\n",
       "        text-align: right;\n",
       "    }\n",
       "</style>\n",
       "<table border=\"1\" class=\"dataframe\">\n",
       "  <thead>\n",
       "    <tr style=\"text-align: right;\">\n",
       "      <th></th>\n",
       "      <th>Category</th>\n",
       "      <th>Purchase Amount (USD)</th>\n",
       "      <th>% Purchase</th>\n",
       "    </tr>\n",
       "  </thead>\n",
       "  <tbody>\n",
       "    <tr>\n",
       "      <th>0</th>\n",
       "      <td>Clothing</td>\n",
       "      <td>104264</td>\n",
       "      <td>44.73</td>\n",
       "    </tr>\n",
       "    <tr>\n",
       "      <th>1</th>\n",
       "      <td>Footwear</td>\n",
       "      <td>36093</td>\n",
       "      <td>15.49</td>\n",
       "    </tr>\n",
       "    <tr>\n",
       "      <th>2</th>\n",
       "      <td>Outerwear</td>\n",
       "      <td>18524</td>\n",
       "      <td>7.95</td>\n",
       "    </tr>\n",
       "    <tr>\n",
       "      <th>3</th>\n",
       "      <td>Accessories</td>\n",
       "      <td>74200</td>\n",
       "      <td>31.83</td>\n",
       "    </tr>\n",
       "  </tbody>\n",
       "</table>\n",
       "</div>"
      ],
      "text/plain": [
       "      Category  Purchase Amount (USD)  % Purchase\n",
       "0     Clothing                 104264       44.73\n",
       "1     Footwear                  36093       15.49\n",
       "2    Outerwear                  18524        7.95\n",
       "3  Accessories                  74200       31.83"
      ]
     },
     "execution_count": 45,
     "metadata": {},
     "output_type": "execute_result"
    }
   ],
   "source": [
    "CategoryWisePurchase"
   ]
  },
  {
   "cell_type": "code",
   "execution_count": 46,
   "id": "c2b69956-2b75-40cb-a91f-70880e259deb",
   "metadata": {},
   "outputs": [],
   "source": [
    "# get cloting item wise purchase\n",
    "\n",
    "Clothingdct=dict()\n",
    "\n",
    "for i in TypeOfClothing:\n",
    "    Clothingdct.update({i:shopping_trends_df[shopping_trends_df['Item Purchased']==i]['Purchase Amount (USD)'].sum()})\n",
    "\n",
    "ClothingCategoryItemWisePurchase=pd.DataFrame(list(Clothingdct.items()),columns=['Clothing','Purchase Amount (USD)'])"
   ]
  },
  {
   "cell_type": "code",
   "execution_count": 47,
   "id": "ee0c6c9a-565f-4c7b-85f0-a052f12d7dc6",
   "metadata": {},
   "outputs": [
    {
     "data": {
      "text/html": [
       "<div>\n",
       "<style scoped>\n",
       "    .dataframe tbody tr th:only-of-type {\n",
       "        vertical-align: middle;\n",
       "    }\n",
       "\n",
       "    .dataframe tbody tr th {\n",
       "        vertical-align: top;\n",
       "    }\n",
       "\n",
       "    .dataframe thead th {\n",
       "        text-align: right;\n",
       "    }\n",
       "</style>\n",
       "<table border=\"1\" class=\"dataframe\">\n",
       "  <thead>\n",
       "    <tr style=\"text-align: right;\">\n",
       "      <th></th>\n",
       "      <th>Clothing</th>\n",
       "      <th>Purchase Amount (USD)</th>\n",
       "    </tr>\n",
       "  </thead>\n",
       "  <tbody>\n",
       "    <tr>\n",
       "      <th>0</th>\n",
       "      <td>Blouse</td>\n",
       "      <td>10410</td>\n",
       "    </tr>\n",
       "    <tr>\n",
       "      <th>1</th>\n",
       "      <td>Sweater</td>\n",
       "      <td>9462</td>\n",
       "    </tr>\n",
       "    <tr>\n",
       "      <th>2</th>\n",
       "      <td>Jeans</td>\n",
       "      <td>7548</td>\n",
       "    </tr>\n",
       "    <tr>\n",
       "      <th>3</th>\n",
       "      <td>Shirt</td>\n",
       "      <td>10332</td>\n",
       "    </tr>\n",
       "    <tr>\n",
       "      <th>4</th>\n",
       "      <td>Shorts</td>\n",
       "      <td>9433</td>\n",
       "    </tr>\n",
       "    <tr>\n",
       "      <th>5</th>\n",
       "      <td>Dress</td>\n",
       "      <td>10320</td>\n",
       "    </tr>\n",
       "    <tr>\n",
       "      <th>6</th>\n",
       "      <td>Skirt</td>\n",
       "      <td>9402</td>\n",
       "    </tr>\n",
       "    <tr>\n",
       "      <th>7</th>\n",
       "      <td>Pants</td>\n",
       "      <td>10090</td>\n",
       "    </tr>\n",
       "    <tr>\n",
       "      <th>8</th>\n",
       "      <td>Hoodie</td>\n",
       "      <td>8767</td>\n",
       "    </tr>\n",
       "    <tr>\n",
       "      <th>9</th>\n",
       "      <td>T-shirt</td>\n",
       "      <td>9248</td>\n",
       "    </tr>\n",
       "    <tr>\n",
       "      <th>10</th>\n",
       "      <td>Socks</td>\n",
       "      <td>9252</td>\n",
       "    </tr>\n",
       "  </tbody>\n",
       "</table>\n",
       "</div>"
      ],
      "text/plain": [
       "   Clothing  Purchase Amount (USD)\n",
       "0    Blouse                  10410\n",
       "1   Sweater                   9462\n",
       "2     Jeans                   7548\n",
       "3     Shirt                  10332\n",
       "4    Shorts                   9433\n",
       "5     Dress                  10320\n",
       "6     Skirt                   9402\n",
       "7     Pants                  10090\n",
       "8    Hoodie                   8767\n",
       "9   T-shirt                   9248\n",
       "10    Socks                   9252"
      ]
     },
     "execution_count": 47,
     "metadata": {},
     "output_type": "execute_result"
    }
   ],
   "source": [
    "ClothingCategoryItemWisePurchase"
   ]
  },
  {
   "cell_type": "code",
   "execution_count": 48,
   "id": "dd630a84-4e83-4873-b47e-88b3292e3545",
   "metadata": {},
   "outputs": [],
   "source": [
    "# get Footwear item wise purchase\n",
    "Footweardct=dict()\n",
    "\n",
    "for i in TypeOfFootwear:\n",
    "    Footweardct.update({i:shopping_trends_df[shopping_trends_df['Item Purchased']==i]['Purchase Amount (USD)'].sum()})\n",
    "\n",
    "FootwearCategoryItemWisePurchase=pd.DataFrame(list(Footweardct.items()),columns=['Footwear','Purchase Amount (USD)'])"
   ]
  },
  {
   "cell_type": "code",
   "execution_count": 49,
   "id": "56f8dbb8-06e0-4836-bc19-781a7d273378",
   "metadata": {},
   "outputs": [
    {
     "data": {
      "text/html": [
       "<div>\n",
       "<style scoped>\n",
       "    .dataframe tbody tr th:only-of-type {\n",
       "        vertical-align: middle;\n",
       "    }\n",
       "\n",
       "    .dataframe tbody tr th {\n",
       "        vertical-align: top;\n",
       "    }\n",
       "\n",
       "    .dataframe thead th {\n",
       "        text-align: right;\n",
       "    }\n",
       "</style>\n",
       "<table border=\"1\" class=\"dataframe\">\n",
       "  <thead>\n",
       "    <tr style=\"text-align: right;\">\n",
       "      <th></th>\n",
       "      <th>Footwear</th>\n",
       "      <th>Purchase Amount (USD)</th>\n",
       "    </tr>\n",
       "  </thead>\n",
       "  <tbody>\n",
       "    <tr>\n",
       "      <th>0</th>\n",
       "      <td>Sandals</td>\n",
       "      <td>9200</td>\n",
       "    </tr>\n",
       "    <tr>\n",
       "      <th>1</th>\n",
       "      <td>Sneakers</td>\n",
       "      <td>8635</td>\n",
       "    </tr>\n",
       "    <tr>\n",
       "      <th>2</th>\n",
       "      <td>Shoes</td>\n",
       "      <td>9240</td>\n",
       "    </tr>\n",
       "    <tr>\n",
       "      <th>3</th>\n",
       "      <td>Boots</td>\n",
       "      <td>9018</td>\n",
       "    </tr>\n",
       "  </tbody>\n",
       "</table>\n",
       "</div>"
      ],
      "text/plain": [
       "   Footwear  Purchase Amount (USD)\n",
       "0   Sandals                   9200\n",
       "1  Sneakers                   8635\n",
       "2     Shoes                   9240\n",
       "3     Boots                   9018"
      ]
     },
     "execution_count": 49,
     "metadata": {},
     "output_type": "execute_result"
    }
   ],
   "source": [
    "FootwearCategoryItemWisePurchase"
   ]
  },
  {
   "cell_type": "code",
   "execution_count": 50,
   "id": "7d977a4c-9073-4319-a10f-bdb2472547a2",
   "metadata": {},
   "outputs": [],
   "source": [
    "# get outerwear item wise purchase \n",
    "Outerweardct=dict()\n",
    "\n",
    "for i in TypeOfOuterwear:\n",
    "    Outerweardct.update({i:shopping_trends_df[shopping_trends_df['Item Purchased']==i]['Purchase Amount (USD)'].sum()})\n",
    "\n",
    "OuterwearCategoryItemWisePurchase=pd.DataFrame(list(Outerweardct.items()),columns=['Outerwear','Purchase Amount (USD)'])"
   ]
  },
  {
   "cell_type": "code",
   "execution_count": 51,
   "id": "7392470d-89d0-4658-9336-5e2b5611e9e4",
   "metadata": {},
   "outputs": [
    {
     "data": {
      "text/html": [
       "<div>\n",
       "<style scoped>\n",
       "    .dataframe tbody tr th:only-of-type {\n",
       "        vertical-align: middle;\n",
       "    }\n",
       "\n",
       "    .dataframe tbody tr th {\n",
       "        vertical-align: top;\n",
       "    }\n",
       "\n",
       "    .dataframe thead th {\n",
       "        text-align: right;\n",
       "    }\n",
       "</style>\n",
       "<table border=\"1\" class=\"dataframe\">\n",
       "  <thead>\n",
       "    <tr style=\"text-align: right;\">\n",
       "      <th></th>\n",
       "      <th>Outerwear</th>\n",
       "      <th>Purchase Amount (USD)</th>\n",
       "    </tr>\n",
       "  </thead>\n",
       "  <tbody>\n",
       "    <tr>\n",
       "      <th>0</th>\n",
       "      <td>Coat</td>\n",
       "      <td>9275</td>\n",
       "    </tr>\n",
       "    <tr>\n",
       "      <th>1</th>\n",
       "      <td>Jacket</td>\n",
       "      <td>9249</td>\n",
       "    </tr>\n",
       "  </tbody>\n",
       "</table>\n",
       "</div>"
      ],
      "text/plain": [
       "  Outerwear  Purchase Amount (USD)\n",
       "0      Coat                   9275\n",
       "1    Jacket                   9249"
      ]
     },
     "execution_count": 51,
     "metadata": {},
     "output_type": "execute_result"
    }
   ],
   "source": [
    "OuterwearCategoryItemWisePurchase"
   ]
  },
  {
   "cell_type": "code",
   "execution_count": 52,
   "id": "297de805-7fd5-426e-91f7-76cb1bd1f1a7",
   "metadata": {},
   "outputs": [],
   "source": [
    "# get Accessories item wise purchase \n",
    "Accessoriesdct=dict()\n",
    "\n",
    "for i in TypeOfAccessories:\n",
    "    Accessoriesdct.update({i:shopping_trends_df[shopping_trends_df['Item Purchased']==i]['Purchase Amount (USD)'].sum()})\n",
    "\n",
    "AccessoriesCategoryItemWisePurchase=pd.DataFrame(list(Accessoriesdct.items()),columns=['Accessories','Purchase Amount (USD)'])"
   ]
  },
  {
   "cell_type": "code",
   "execution_count": 53,
   "id": "568fded6-784f-496d-8727-baf791b6c944",
   "metadata": {},
   "outputs": [
    {
     "data": {
      "text/html": [
       "<div>\n",
       "<style scoped>\n",
       "    .dataframe tbody tr th:only-of-type {\n",
       "        vertical-align: middle;\n",
       "    }\n",
       "\n",
       "    .dataframe tbody tr th {\n",
       "        vertical-align: top;\n",
       "    }\n",
       "\n",
       "    .dataframe thead th {\n",
       "        text-align: right;\n",
       "    }\n",
       "</style>\n",
       "<table border=\"1\" class=\"dataframe\">\n",
       "  <thead>\n",
       "    <tr style=\"text-align: right;\">\n",
       "      <th></th>\n",
       "      <th>Accessories</th>\n",
       "      <th>Purchase Amount (USD)</th>\n",
       "    </tr>\n",
       "  </thead>\n",
       "  <tbody>\n",
       "    <tr>\n",
       "      <th>0</th>\n",
       "      <td>Handbag</td>\n",
       "      <td>8857</td>\n",
       "    </tr>\n",
       "    <tr>\n",
       "      <th>1</th>\n",
       "      <td>Sunglasses</td>\n",
       "      <td>9649</td>\n",
       "    </tr>\n",
       "    <tr>\n",
       "      <th>2</th>\n",
       "      <td>Jewelry</td>\n",
       "      <td>10010</td>\n",
       "    </tr>\n",
       "    <tr>\n",
       "      <th>3</th>\n",
       "      <td>Scarf</td>\n",
       "      <td>9561</td>\n",
       "    </tr>\n",
       "    <tr>\n",
       "      <th>4</th>\n",
       "      <td>Hat</td>\n",
       "      <td>9375</td>\n",
       "    </tr>\n",
       "    <tr>\n",
       "      <th>5</th>\n",
       "      <td>Backpack</td>\n",
       "      <td>8636</td>\n",
       "    </tr>\n",
       "    <tr>\n",
       "      <th>6</th>\n",
       "      <td>Belt</td>\n",
       "      <td>9635</td>\n",
       "    </tr>\n",
       "    <tr>\n",
       "      <th>7</th>\n",
       "      <td>Gloves</td>\n",
       "      <td>8477</td>\n",
       "    </tr>\n",
       "  </tbody>\n",
       "</table>\n",
       "</div>"
      ],
      "text/plain": [
       "  Accessories  Purchase Amount (USD)\n",
       "0     Handbag                   8857\n",
       "1  Sunglasses                   9649\n",
       "2     Jewelry                  10010\n",
       "3       Scarf                   9561\n",
       "4         Hat                   9375\n",
       "5    Backpack                   8636\n",
       "6        Belt                   9635\n",
       "7      Gloves                   8477"
      ]
     },
     "execution_count": 53,
     "metadata": {},
     "output_type": "execute_result"
    }
   ],
   "source": [
    "AccessoriesCategoryItemWisePurchase"
   ]
  },
  {
   "cell_type": "code",
   "execution_count": 54,
   "id": "77eb986c-ea0c-41f8-8b3f-5e7ff27d0d88",
   "metadata": {},
   "outputs": [],
   "source": [
    "# get season wise purchase \n",
    "Seasondct=dict()\n",
    "\n",
    "for i in SeasonType:\n",
    "    Seasondct.update({i:shopping_trends_df[shopping_trends_df['Season']==i]['Purchase Amount (USD)'].sum()})\n",
    "\n",
    "SeasonWisePurchase=pd.DataFrame(list(Seasondct.items()),columns=['Season','Purchase Amount (USD)'])"
   ]
  },
  {
   "cell_type": "code",
   "execution_count": 55,
   "id": "b2564ccb-8451-4e48-8109-95cea25386ac",
   "metadata": {},
   "outputs": [
    {
     "data": {
      "text/html": [
       "<div>\n",
       "<style scoped>\n",
       "    .dataframe tbody tr th:only-of-type {\n",
       "        vertical-align: middle;\n",
       "    }\n",
       "\n",
       "    .dataframe tbody tr th {\n",
       "        vertical-align: top;\n",
       "    }\n",
       "\n",
       "    .dataframe thead th {\n",
       "        text-align: right;\n",
       "    }\n",
       "</style>\n",
       "<table border=\"1\" class=\"dataframe\">\n",
       "  <thead>\n",
       "    <tr style=\"text-align: right;\">\n",
       "      <th></th>\n",
       "      <th>Season</th>\n",
       "      <th>Purchase Amount (USD)</th>\n",
       "    </tr>\n",
       "  </thead>\n",
       "  <tbody>\n",
       "    <tr>\n",
       "      <th>0</th>\n",
       "      <td>Winter</td>\n",
       "      <td>58607</td>\n",
       "    </tr>\n",
       "    <tr>\n",
       "      <th>1</th>\n",
       "      <td>Spring</td>\n",
       "      <td>58679</td>\n",
       "    </tr>\n",
       "    <tr>\n",
       "      <th>2</th>\n",
       "      <td>Summer</td>\n",
       "      <td>55777</td>\n",
       "    </tr>\n",
       "    <tr>\n",
       "      <th>3</th>\n",
       "      <td>Fall</td>\n",
       "      <td>60018</td>\n",
       "    </tr>\n",
       "  </tbody>\n",
       "</table>\n",
       "</div>"
      ],
      "text/plain": [
       "   Season  Purchase Amount (USD)\n",
       "0  Winter                  58607\n",
       "1  Spring                  58679\n",
       "2  Summer                  55777\n",
       "3    Fall                  60018"
      ]
     },
     "execution_count": 55,
     "metadata": {},
     "output_type": "execute_result"
    }
   ],
   "source": [
    "SeasonWisePurchase"
   ]
  },
  {
   "cell_type": "code",
   "execution_count": 56,
   "id": "870b7851-f516-4e49-866b-2373ea7667fc",
   "metadata": {},
   "outputs": [
    {
     "data": {
      "text/plain": [
       "array(['Winter', 'Spring', 'Summer', 'Fall'], dtype=object)"
      ]
     },
     "execution_count": 56,
     "metadata": {},
     "output_type": "execute_result"
    }
   ],
   "source": [
    "SeasonType"
   ]
  },
  {
   "cell_type": "code",
   "execution_count": 57,
   "id": "5b925d44-1859-4098-beeb-92eeec73f8c0",
   "metadata": {},
   "outputs": [
    {
     "data": {
      "text/plain": [
       "array(['Credit Card', 'Bank Transfer', 'Cash', 'PayPal', 'Venmo',\n",
       "       'Debit Card'], dtype=object)"
      ]
     },
     "execution_count": 57,
     "metadata": {},
     "output_type": "execute_result"
    }
   ],
   "source": [
    "PaymentMethodType"
   ]
  },
  {
   "cell_type": "code",
   "execution_count": 58,
   "id": "f86ff2db-c230-40a6-9d3d-50fa0967159d",
   "metadata": {},
   "outputs": [],
   "source": [
    "# get Payment Method wise purchase \n",
    "Paymentdct=dict()\n",
    "\n",
    "for i in PaymentMethodType:\n",
    "    Paymentdct.update({i:shopping_trends_df[shopping_trends_df['Payment Method']==i]['Purchase Amount (USD)'].sum()})\n",
    "\n",
    "PaymentMethodWisePurchase=pd.DataFrame(list(Paymentdct.items()),columns=['Payment Method','Purchase Amount (USD)'])\n",
    "    "
   ]
  },
  {
   "cell_type": "code",
   "execution_count": 59,
   "id": "f4bdf53f-b2c9-4503-a73b-cea08e363385",
   "metadata": {},
   "outputs": [
    {
     "data": {
      "text/html": [
       "<div>\n",
       "<style scoped>\n",
       "    .dataframe tbody tr th:only-of-type {\n",
       "        vertical-align: middle;\n",
       "    }\n",
       "\n",
       "    .dataframe tbody tr th {\n",
       "        vertical-align: top;\n",
       "    }\n",
       "\n",
       "    .dataframe thead th {\n",
       "        text-align: right;\n",
       "    }\n",
       "</style>\n",
       "<table border=\"1\" class=\"dataframe\">\n",
       "  <thead>\n",
       "    <tr style=\"text-align: right;\">\n",
       "      <th></th>\n",
       "      <th>Payment Method</th>\n",
       "      <th>Purchase Amount (USD)</th>\n",
       "    </tr>\n",
       "  </thead>\n",
       "  <tbody>\n",
       "    <tr>\n",
       "      <th>0</th>\n",
       "      <td>Credit Card</td>\n",
       "      <td>42567</td>\n",
       "    </tr>\n",
       "    <tr>\n",
       "      <th>1</th>\n",
       "      <td>Bank Transfer</td>\n",
       "      <td>37123</td>\n",
       "    </tr>\n",
       "    <tr>\n",
       "      <th>2</th>\n",
       "      <td>Cash</td>\n",
       "      <td>38833</td>\n",
       "    </tr>\n",
       "    <tr>\n",
       "      <th>3</th>\n",
       "      <td>PayPal</td>\n",
       "      <td>37449</td>\n",
       "    </tr>\n",
       "    <tr>\n",
       "      <th>4</th>\n",
       "      <td>Venmo</td>\n",
       "      <td>39991</td>\n",
       "    </tr>\n",
       "    <tr>\n",
       "      <th>5</th>\n",
       "      <td>Debit Card</td>\n",
       "      <td>37118</td>\n",
       "    </tr>\n",
       "  </tbody>\n",
       "</table>\n",
       "</div>"
      ],
      "text/plain": [
       "  Payment Method  Purchase Amount (USD)\n",
       "0    Credit Card                  42567\n",
       "1  Bank Transfer                  37123\n",
       "2           Cash                  38833\n",
       "3         PayPal                  37449\n",
       "4          Venmo                  39991\n",
       "5     Debit Card                  37118"
      ]
     },
     "execution_count": 59,
     "metadata": {},
     "output_type": "execute_result"
    }
   ],
   "source": [
    "PaymentMethodWisePurchase"
   ]
  },
  {
   "cell_type": "code",
   "execution_count": 60,
   "id": "02748a0c-a32e-4e57-b004-320c14f6b1d2",
   "metadata": {},
   "outputs": [],
   "source": [
    "## generating count of how many times each payment method is used \n",
    "PaymentMethodWisePurchase['Payment Counts']=[shopping_trends_df[shopping_trends_df['Payment Method']==i]['Payment Method'].count() for i in PaymentMethodWisePurchase['Payment Method']]"
   ]
  },
  {
   "cell_type": "code",
   "execution_count": 61,
   "id": "45141b87-870d-4878-8397-b02990a9c404",
   "metadata": {},
   "outputs": [
    {
     "data": {
      "text/html": [
       "<div>\n",
       "<style scoped>\n",
       "    .dataframe tbody tr th:only-of-type {\n",
       "        vertical-align: middle;\n",
       "    }\n",
       "\n",
       "    .dataframe tbody tr th {\n",
       "        vertical-align: top;\n",
       "    }\n",
       "\n",
       "    .dataframe thead th {\n",
       "        text-align: right;\n",
       "    }\n",
       "</style>\n",
       "<table border=\"1\" class=\"dataframe\">\n",
       "  <thead>\n",
       "    <tr style=\"text-align: right;\">\n",
       "      <th></th>\n",
       "      <th>Payment Method</th>\n",
       "      <th>Purchase Amount (USD)</th>\n",
       "      <th>Payment Counts</th>\n",
       "    </tr>\n",
       "  </thead>\n",
       "  <tbody>\n",
       "    <tr>\n",
       "      <th>0</th>\n",
       "      <td>Credit Card</td>\n",
       "      <td>42567</td>\n",
       "      <td>696</td>\n",
       "    </tr>\n",
       "    <tr>\n",
       "      <th>1</th>\n",
       "      <td>Bank Transfer</td>\n",
       "      <td>37123</td>\n",
       "      <td>632</td>\n",
       "    </tr>\n",
       "    <tr>\n",
       "      <th>2</th>\n",
       "      <td>Cash</td>\n",
       "      <td>38833</td>\n",
       "      <td>648</td>\n",
       "    </tr>\n",
       "    <tr>\n",
       "      <th>3</th>\n",
       "      <td>PayPal</td>\n",
       "      <td>37449</td>\n",
       "      <td>638</td>\n",
       "    </tr>\n",
       "    <tr>\n",
       "      <th>4</th>\n",
       "      <td>Venmo</td>\n",
       "      <td>39991</td>\n",
       "      <td>653</td>\n",
       "    </tr>\n",
       "    <tr>\n",
       "      <th>5</th>\n",
       "      <td>Debit Card</td>\n",
       "      <td>37118</td>\n",
       "      <td>633</td>\n",
       "    </tr>\n",
       "  </tbody>\n",
       "</table>\n",
       "</div>"
      ],
      "text/plain": [
       "  Payment Method  Purchase Amount (USD)  Payment Counts\n",
       "0    Credit Card                  42567             696\n",
       "1  Bank Transfer                  37123             632\n",
       "2           Cash                  38833             648\n",
       "3         PayPal                  37449             638\n",
       "4          Venmo                  39991             653\n",
       "5     Debit Card                  37118             633"
      ]
     },
     "execution_count": 61,
     "metadata": {},
     "output_type": "execute_result"
    }
   ],
   "source": [
    "PaymentMethodWisePurchase"
   ]
  },
  {
   "cell_type": "code",
   "execution_count": 62,
   "id": "19290c97-78d7-4bae-a252-4cb9a43a9801",
   "metadata": {},
   "outputs": [],
   "source": [
    "# generating cunt of how many times purchase done in each season\n",
    "SeasonWisePurchase['Purchase Count']=[shopping_trends_df[shopping_trends_df['Season']==i]['Season'].count() for i in SeasonWisePurchase['Season']]\n"
   ]
  },
  {
   "cell_type": "code",
   "execution_count": 63,
   "id": "9be636f9-bb0e-4523-b705-b71a1011dd49",
   "metadata": {},
   "outputs": [
    {
     "data": {
      "text/html": [
       "<div>\n",
       "<style scoped>\n",
       "    .dataframe tbody tr th:only-of-type {\n",
       "        vertical-align: middle;\n",
       "    }\n",
       "\n",
       "    .dataframe tbody tr th {\n",
       "        vertical-align: top;\n",
       "    }\n",
       "\n",
       "    .dataframe thead th {\n",
       "        text-align: right;\n",
       "    }\n",
       "</style>\n",
       "<table border=\"1\" class=\"dataframe\">\n",
       "  <thead>\n",
       "    <tr style=\"text-align: right;\">\n",
       "      <th></th>\n",
       "      <th>Season</th>\n",
       "      <th>Purchase Amount (USD)</th>\n",
       "      <th>Purchase Count</th>\n",
       "    </tr>\n",
       "  </thead>\n",
       "  <tbody>\n",
       "    <tr>\n",
       "      <th>0</th>\n",
       "      <td>Winter</td>\n",
       "      <td>58607</td>\n",
       "      <td>971</td>\n",
       "    </tr>\n",
       "    <tr>\n",
       "      <th>1</th>\n",
       "      <td>Spring</td>\n",
       "      <td>58679</td>\n",
       "      <td>999</td>\n",
       "    </tr>\n",
       "    <tr>\n",
       "      <th>2</th>\n",
       "      <td>Summer</td>\n",
       "      <td>55777</td>\n",
       "      <td>955</td>\n",
       "    </tr>\n",
       "    <tr>\n",
       "      <th>3</th>\n",
       "      <td>Fall</td>\n",
       "      <td>60018</td>\n",
       "      <td>975</td>\n",
       "    </tr>\n",
       "  </tbody>\n",
       "</table>\n",
       "</div>"
      ],
      "text/plain": [
       "   Season  Purchase Amount (USD)  Purchase Count\n",
       "0  Winter                  58607             971\n",
       "1  Spring                  58679             999\n",
       "2  Summer                  55777             955\n",
       "3    Fall                  60018             975"
      ]
     },
     "execution_count": 63,
     "metadata": {},
     "output_type": "execute_result"
    }
   ],
   "source": [
    "SeasonWisePurchase"
   ]
  },
  {
   "cell_type": "code",
   "execution_count": 64,
   "id": "4e50ebaf-182d-4b97-b96b-bb33017f1ec1",
   "metadata": {},
   "outputs": [],
   "source": [
    "## Generating count of each item for clothing category\n",
    "\n",
    "ClothingCategoryItemWisePurchase['Count']=[shopping_trends_df[shopping_trends_df['Item Purchased']==i]['Item Purchased'].count() for i in ClothingCategoryItemWisePurchase['Clothing']]"
   ]
  },
  {
   "cell_type": "code",
   "execution_count": 65,
   "id": "10f97918-66f2-4717-9b13-b8f442dea3f2",
   "metadata": {},
   "outputs": [],
   "source": [
    "# Generating count of each item for Footwear category\n",
    "\n",
    "FootwearCategoryItemWisePurchase['Count']=[shopping_trends_df[shopping_trends_df['Item Purchased']==i]['Item Purchased'].count() for i in FootwearCategoryItemWisePurchase['Footwear']]\n"
   ]
  },
  {
   "cell_type": "code",
   "execution_count": 66,
   "id": "d7b5c1f5-b0fd-42e1-b929-65aaabec00cc",
   "metadata": {},
   "outputs": [],
   "source": [
    "# generating count of each item Outerwear category\n",
    "\n",
    "OuterwearCategoryItemWisePurchase['Count']=[shopping_trends_df[shopping_trends_df['Item Purchased']==i]['Item Purchased'].count() for i in OuterwearCategoryItemWisePurchase['Outerwear']]\n"
   ]
  },
  {
   "cell_type": "code",
   "execution_count": 67,
   "id": "5d451a80-03b3-440f-b955-46eb497790ca",
   "metadata": {},
   "outputs": [],
   "source": [
    "# generating count of each item Accessories category\n",
    "\n",
    "AccessoriesCategoryItemWisePurchase['Count']=[shopping_trends_df[shopping_trends_df['Item Purchased']==i]['Item Purchased'].count() for i in AccessoriesCategoryItemWisePurchase['Accessories']]\n"
   ]
  },
  {
   "cell_type": "raw",
   "id": "a3de0379-e595-44a9-8392-272f5a6aa344",
   "metadata": {},
   "source": [
    "Below are calculations done for shopping trends csv.\n",
    "\n",
    "1) CategoryType\n",
    "2) CategoryTypeItemCount\n",
    "3) TotalPurchaseAmount_USD\n",
    "4) TypeOfClothing\n",
    "5) ClothingCategoryItemCount\n",
    "6) TotalPurchaseAmountClothingCategory\n",
    "7) TypeOfFootwear\n",
    "8) FootwearCategoryItemCount\n",
    "9) TotalPurchaseAmountFootwearCategory\n",
    "10) TypeOfOuterwearv\n",
    "11) OuterwearCategoryItemCount\n",
    "12) TotalPurchaseAmountOuterwearCategory\n",
    "13) TypeOfAccessories\n",
    "14) AccessoriesCategoryItemCount\n",
    "15) TotalPurchaseAmountAccessoriesCategory\n",
    "16) SeasonType\n",
    "17) PaymentMethodType\n"
   ]
  },
  {
   "cell_type": "raw",
   "id": "66a0cdd3-451a-46fa-b1cc-a22ea756ce37",
   "metadata": {},
   "source": [
    "By Analyzinf Shopping trends below is the output got category wise:\n",
    "1) ClothingCategoryItemWisePurchase\n",
    "2) FootwearCategoryItemWisePurchase\n",
    "3) OuterwearCategoryItemWisePurchase\n",
    "4) AccessoriesCategoryItemWisePurchase\n",
    "6) SeasonWisePurchase\n",
    "7) CategoryWisePurchase\n",
    "8) PaymentMethodType"
   ]
  },
  {
   "cell_type": "code",
   "execution_count": 68,
   "id": "5bd24a52-65c7-40d4-aeba-0e6ea4ecc150",
   "metadata": {},
   "outputs": [
    {
     "name": "stdout",
     "output_type": "stream",
     "text": [
      "Percentage Profit by clothing category  44.73 %\n"
     ]
    }
   ],
   "source": [
    "## Calculate Percentage Profit By clothing Category\n",
    "\n",
    "PercentageProfitByClothing=(TotalPurchaseAmountClothingCategory/TotalPurchaseAmount_USD)*100\n",
    "print(\"Percentage Profit by clothing category \",round(PercentageProfitByClothing,2),\"%\")\n"
   ]
  },
  {
   "cell_type": "code",
   "execution_count": 69,
   "id": "61e5de15-fa97-44bf-92af-17df57567df3",
   "metadata": {},
   "outputs": [
    {
     "name": "stdout",
     "output_type": "stream",
     "text": [
      "Percentage Profit by footwear category  15.49 %\n"
     ]
    }
   ],
   "source": [
    "## Calculate Percentage Profit By Footwear Category\n",
    "\n",
    "PercentageProfitByFootwear=(TotalPurchaseAmountFootwearCategory/TotalPurchaseAmount_USD)*100\n",
    "print(\"Percentage Profit by footwear category \",round(PercentageProfitByFootwear,2),\"%\")"
   ]
  },
  {
   "cell_type": "code",
   "execution_count": 70,
   "id": "5c47363e-b3f2-430a-9c22-0ed2de87d7a9",
   "metadata": {},
   "outputs": [
    {
     "name": "stdout",
     "output_type": "stream",
     "text": [
      "Percentage Profit by Outerwear category  7.95 %\n"
     ]
    }
   ],
   "source": [
    "## Calculate Percentage Profit By Outerwear Category\n",
    "\n",
    "PercentageProfitByOuterwear=(TotalPurchaseAmountOuterwearCategory/TotalPurchaseAmount_USD)*100\n",
    "print(\"Percentage Profit by Outerwear category \",round(PercentageProfitByOuterwear,2),\"%\")"
   ]
  },
  {
   "cell_type": "code",
   "execution_count": 71,
   "id": "e644d51e-8d4f-4ad6-b05f-7fcbbea0265d",
   "metadata": {},
   "outputs": [
    {
     "name": "stdout",
     "output_type": "stream",
     "text": [
      "Percentage Profit by Accessories category  31.83 %\n"
     ]
    }
   ],
   "source": [
    "## Calculate Percentage Profit By Accessories Category\n",
    "\n",
    "PercentageProfitByAccessories=(TotalPurchaseAmountAccessoriesCategory/TotalPurchaseAmount_USD)*100\n",
    "print(\"Percentage Profit by Accessories category \",round(PercentageProfitByAccessories,2),\"%\")"
   ]
  },
  {
   "cell_type": "code",
   "execution_count": 72,
   "id": "1aa25eb9-36b3-4f09-8fea-1c5814ed5f7d",
   "metadata": {},
   "outputs": [
    {
     "name": "stdout",
     "output_type": "stream",
     "text": [
      "Maximum item purchased in clothing is :\n"
     ]
    },
    {
     "data": {
      "text/html": [
       "<div>\n",
       "<style scoped>\n",
       "    .dataframe tbody tr th:only-of-type {\n",
       "        vertical-align: middle;\n",
       "    }\n",
       "\n",
       "    .dataframe tbody tr th {\n",
       "        vertical-align: top;\n",
       "    }\n",
       "\n",
       "    .dataframe thead th {\n",
       "        text-align: right;\n",
       "    }\n",
       "</style>\n",
       "<table border=\"1\" class=\"dataframe\">\n",
       "  <thead>\n",
       "    <tr style=\"text-align: right;\">\n",
       "      <th></th>\n",
       "      <th>Clothing</th>\n",
       "      <th>Count</th>\n",
       "      <th>Purchase Amount (USD)</th>\n",
       "    </tr>\n",
       "  </thead>\n",
       "  <tbody>\n",
       "    <tr>\n",
       "      <th>0</th>\n",
       "      <td>Blouse</td>\n",
       "      <td>171</td>\n",
       "      <td>10410</td>\n",
       "    </tr>\n",
       "  </tbody>\n",
       "</table>\n",
       "</div>"
      ],
      "text/plain": [
       "  Clothing  Count  Purchase Amount (USD)\n",
       "0   Blouse    171                  10410"
      ]
     },
     "execution_count": 72,
     "metadata": {},
     "output_type": "execute_result"
    }
   ],
   "source": [
    "## to get max purchased from clothing category \n",
    "Clothing=ClothingCategoryItemWisePurchase['Purchase Amount (USD)'].max()\n",
    "ClothingMax_Purchase=ClothingCategoryItemWisePurchase[ClothingCategoryItemWisePurchase['Purchase Amount (USD)']==Clothing][['Clothing','Count','Purchase Amount (USD)']]\n",
    "\n",
    "print('Maximum item purchased in clothing is :')\n",
    "ClothingMax_Purchase"
   ]
  },
  {
   "cell_type": "code",
   "execution_count": 73,
   "id": "b7da3f71-7c22-4862-acca-06106f4f49b9",
   "metadata": {},
   "outputs": [
    {
     "data": {
      "text/html": [
       "<div>\n",
       "<style scoped>\n",
       "    .dataframe tbody tr th:only-of-type {\n",
       "        vertical-align: middle;\n",
       "    }\n",
       "\n",
       "    .dataframe tbody tr th {\n",
       "        vertical-align: top;\n",
       "    }\n",
       "\n",
       "    .dataframe thead th {\n",
       "        text-align: right;\n",
       "    }\n",
       "</style>\n",
       "<table border=\"1\" class=\"dataframe\">\n",
       "  <thead>\n",
       "    <tr style=\"text-align: right;\">\n",
       "      <th></th>\n",
       "      <th>Footwear</th>\n",
       "      <th>Count</th>\n",
       "      <th>Purchase Amount (USD)</th>\n",
       "    </tr>\n",
       "  </thead>\n",
       "  <tbody>\n",
       "    <tr>\n",
       "      <th>2</th>\n",
       "      <td>Shoes</td>\n",
       "      <td>150</td>\n",
       "      <td>9240</td>\n",
       "    </tr>\n",
       "  </tbody>\n",
       "</table>\n",
       "</div>"
      ],
      "text/plain": [
       "  Footwear  Count  Purchase Amount (USD)\n",
       "2    Shoes    150                   9240"
      ]
     },
     "execution_count": 73,
     "metadata": {},
     "output_type": "execute_result"
    }
   ],
   "source": [
    "## to get max purchased from footwear category \n",
    "Footwear=FootwearCategoryItemWisePurchase['Purchase Amount (USD)'].max()\n",
    "FootwearMax_Purchase=FootwearCategoryItemWisePurchase[FootwearCategoryItemWisePurchase['Purchase Amount (USD)']==Footwear][['Footwear','Count','Purchase Amount (USD)']]\n",
    "FootwearMax_Purchase"
   ]
  },
  {
   "cell_type": "code",
   "execution_count": 74,
   "id": "1776ea60-d4dc-4947-a6cb-a57fea66bbb7",
   "metadata": {},
   "outputs": [
    {
     "data": {
      "text/html": [
       "<div>\n",
       "<style scoped>\n",
       "    .dataframe tbody tr th:only-of-type {\n",
       "        vertical-align: middle;\n",
       "    }\n",
       "\n",
       "    .dataframe tbody tr th {\n",
       "        vertical-align: top;\n",
       "    }\n",
       "\n",
       "    .dataframe thead th {\n",
       "        text-align: right;\n",
       "    }\n",
       "</style>\n",
       "<table border=\"1\" class=\"dataframe\">\n",
       "  <thead>\n",
       "    <tr style=\"text-align: right;\">\n",
       "      <th></th>\n",
       "      <th>Outerwear</th>\n",
       "      <th>Count</th>\n",
       "      <th>Purchase Amount (USD)</th>\n",
       "    </tr>\n",
       "  </thead>\n",
       "  <tbody>\n",
       "    <tr>\n",
       "      <th>0</th>\n",
       "      <td>Coat</td>\n",
       "      <td>161</td>\n",
       "      <td>9275</td>\n",
       "    </tr>\n",
       "  </tbody>\n",
       "</table>\n",
       "</div>"
      ],
      "text/plain": [
       "  Outerwear  Count  Purchase Amount (USD)\n",
       "0      Coat    161                   9275"
      ]
     },
     "execution_count": 74,
     "metadata": {},
     "output_type": "execute_result"
    }
   ],
   "source": [
    "## to get max purchased from Outer wear category \n",
    "Outerwear=OuterwearCategoryItemWisePurchase['Purchase Amount (USD)'].max()\n",
    "OuterwearMax_Purchase=OuterwearCategoryItemWisePurchase[OuterwearCategoryItemWisePurchase['Purchase Amount (USD)']==Outerwear][['Outerwear','Count','Purchase Amount (USD)']]\n",
    "OuterwearMax_Purchase"
   ]
  },
  {
   "cell_type": "code",
   "execution_count": 75,
   "id": "49a633f8-26d3-477a-9fd2-ea6e287e7571",
   "metadata": {},
   "outputs": [
    {
     "data": {
      "text/html": [
       "<div>\n",
       "<style scoped>\n",
       "    .dataframe tbody tr th:only-of-type {\n",
       "        vertical-align: middle;\n",
       "    }\n",
       "\n",
       "    .dataframe tbody tr th {\n",
       "        vertical-align: top;\n",
       "    }\n",
       "\n",
       "    .dataframe thead th {\n",
       "        text-align: right;\n",
       "    }\n",
       "</style>\n",
       "<table border=\"1\" class=\"dataframe\">\n",
       "  <thead>\n",
       "    <tr style=\"text-align: right;\">\n",
       "      <th></th>\n",
       "      <th>Accessories</th>\n",
       "      <th>Count</th>\n",
       "      <th>Purchase Amount (USD)</th>\n",
       "    </tr>\n",
       "  </thead>\n",
       "  <tbody>\n",
       "    <tr>\n",
       "      <th>2</th>\n",
       "      <td>Jewelry</td>\n",
       "      <td>171</td>\n",
       "      <td>10010</td>\n",
       "    </tr>\n",
       "  </tbody>\n",
       "</table>\n",
       "</div>"
      ],
      "text/plain": [
       "  Accessories  Count  Purchase Amount (USD)\n",
       "2     Jewelry    171                  10010"
      ]
     },
     "execution_count": 75,
     "metadata": {},
     "output_type": "execute_result"
    }
   ],
   "source": [
    "## to get max purchased from Accessories category \n",
    "Accessories=AccessoriesCategoryItemWisePurchase['Purchase Amount (USD)'].max()\n",
    "AccessoriesMax_Purchase=AccessoriesCategoryItemWisePurchase[AccessoriesCategoryItemWisePurchase['Purchase Amount (USD)']==Accessories][['Accessories','Count','Purchase Amount (USD)']]\n",
    "AccessoriesMax_Purchase"
   ]
  },
  {
   "cell_type": "code",
   "execution_count": 76,
   "id": "debc6745-c6c2-4885-a460-968834500e77",
   "metadata": {},
   "outputs": [
    {
     "data": {
      "text/html": [
       "<div>\n",
       "<style scoped>\n",
       "    .dataframe tbody tr th:only-of-type {\n",
       "        vertical-align: middle;\n",
       "    }\n",
       "\n",
       "    .dataframe tbody tr th {\n",
       "        vertical-align: top;\n",
       "    }\n",
       "\n",
       "    .dataframe thead th {\n",
       "        text-align: right;\n",
       "    }\n",
       "</style>\n",
       "<table border=\"1\" class=\"dataframe\">\n",
       "  <thead>\n",
       "    <tr style=\"text-align: right;\">\n",
       "      <th></th>\n",
       "      <th>Season</th>\n",
       "      <th>Purchase Amount (USD)</th>\n",
       "    </tr>\n",
       "  </thead>\n",
       "  <tbody>\n",
       "    <tr>\n",
       "      <th>3</th>\n",
       "      <td>Fall</td>\n",
       "      <td>60018</td>\n",
       "    </tr>\n",
       "  </tbody>\n",
       "</table>\n",
       "</div>"
      ],
      "text/plain": [
       "  Season  Purchase Amount (USD)\n",
       "3   Fall                  60018"
      ]
     },
     "execution_count": 76,
     "metadata": {},
     "output_type": "execute_result"
    }
   ],
   "source": [
    "## to get max purchase in a season\n",
    "Season=SeasonWisePurchase['Purchase Amount (USD)'].max()\n",
    "SeasonMax_Purchase=SeasonWisePurchase[SeasonWisePurchase['Purchase Amount (USD)']==Season][['Season','Purchase Amount (USD)']]\n",
    "SeasonMax_Purchase"
   ]
  },
  {
   "cell_type": "code",
   "execution_count": 77,
   "id": "eb1de1fc-e596-44c0-909d-5dc3090d8a53",
   "metadata": {},
   "outputs": [
    {
     "data": {
      "text/html": [
       "<div>\n",
       "<style scoped>\n",
       "    .dataframe tbody tr th:only-of-type {\n",
       "        vertical-align: middle;\n",
       "    }\n",
       "\n",
       "    .dataframe tbody tr th {\n",
       "        vertical-align: top;\n",
       "    }\n",
       "\n",
       "    .dataframe thead th {\n",
       "        text-align: right;\n",
       "    }\n",
       "</style>\n",
       "<table border=\"1\" class=\"dataframe\">\n",
       "  <thead>\n",
       "    <tr style=\"text-align: right;\">\n",
       "      <th></th>\n",
       "      <th>Clothing</th>\n",
       "      <th>Purchase Amount (USD)</th>\n",
       "      <th>Count</th>\n",
       "    </tr>\n",
       "  </thead>\n",
       "  <tbody>\n",
       "    <tr>\n",
       "      <th>0</th>\n",
       "      <td>Blouse</td>\n",
       "      <td>10410</td>\n",
       "      <td>171</td>\n",
       "    </tr>\n",
       "    <tr>\n",
       "      <th>1</th>\n",
       "      <td>Sweater</td>\n",
       "      <td>9462</td>\n",
       "      <td>164</td>\n",
       "    </tr>\n",
       "    <tr>\n",
       "      <th>2</th>\n",
       "      <td>Jeans</td>\n",
       "      <td>7548</td>\n",
       "      <td>124</td>\n",
       "    </tr>\n",
       "    <tr>\n",
       "      <th>3</th>\n",
       "      <td>Shirt</td>\n",
       "      <td>10332</td>\n",
       "      <td>169</td>\n",
       "    </tr>\n",
       "    <tr>\n",
       "      <th>4</th>\n",
       "      <td>Shorts</td>\n",
       "      <td>9433</td>\n",
       "      <td>157</td>\n",
       "    </tr>\n",
       "    <tr>\n",
       "      <th>5</th>\n",
       "      <td>Dress</td>\n",
       "      <td>10320</td>\n",
       "      <td>166</td>\n",
       "    </tr>\n",
       "    <tr>\n",
       "      <th>6</th>\n",
       "      <td>Skirt</td>\n",
       "      <td>9402</td>\n",
       "      <td>158</td>\n",
       "    </tr>\n",
       "    <tr>\n",
       "      <th>7</th>\n",
       "      <td>Pants</td>\n",
       "      <td>10090</td>\n",
       "      <td>171</td>\n",
       "    </tr>\n",
       "    <tr>\n",
       "      <th>8</th>\n",
       "      <td>Hoodie</td>\n",
       "      <td>8767</td>\n",
       "      <td>151</td>\n",
       "    </tr>\n",
       "    <tr>\n",
       "      <th>9</th>\n",
       "      <td>T-shirt</td>\n",
       "      <td>9248</td>\n",
       "      <td>147</td>\n",
       "    </tr>\n",
       "    <tr>\n",
       "      <th>10</th>\n",
       "      <td>Socks</td>\n",
       "      <td>9252</td>\n",
       "      <td>159</td>\n",
       "    </tr>\n",
       "  </tbody>\n",
       "</table>\n",
       "</div>"
      ],
      "text/plain": [
       "   Clothing  Purchase Amount (USD)  Count\n",
       "0    Blouse                  10410    171\n",
       "1   Sweater                   9462    164\n",
       "2     Jeans                   7548    124\n",
       "3     Shirt                  10332    169\n",
       "4    Shorts                   9433    157\n",
       "5     Dress                  10320    166\n",
       "6     Skirt                   9402    158\n",
       "7     Pants                  10090    171\n",
       "8    Hoodie                   8767    151\n",
       "9   T-shirt                   9248    147\n",
       "10    Socks                   9252    159"
      ]
     },
     "execution_count": 77,
     "metadata": {},
     "output_type": "execute_result"
    }
   ],
   "source": [
    "ClothingCategoryItemWisePurchase"
   ]
  },
  {
   "cell_type": "code",
   "execution_count": 78,
   "id": "699dc7cb-0d94-4a0a-ae56-d3de60604289",
   "metadata": {},
   "outputs": [
    {
     "data": {
      "text/html": [
       "<div>\n",
       "<style scoped>\n",
       "    .dataframe tbody tr th:only-of-type {\n",
       "        vertical-align: middle;\n",
       "    }\n",
       "\n",
       "    .dataframe tbody tr th {\n",
       "        vertical-align: top;\n",
       "    }\n",
       "\n",
       "    .dataframe thead th {\n",
       "        text-align: right;\n",
       "    }\n",
       "</style>\n",
       "<table border=\"1\" class=\"dataframe\">\n",
       "  <thead>\n",
       "    <tr style=\"text-align: right;\">\n",
       "      <th></th>\n",
       "      <th>Footwear</th>\n",
       "      <th>Purchase Amount (USD)</th>\n",
       "      <th>Count</th>\n",
       "    </tr>\n",
       "  </thead>\n",
       "  <tbody>\n",
       "    <tr>\n",
       "      <th>0</th>\n",
       "      <td>Sandals</td>\n",
       "      <td>9200</td>\n",
       "      <td>160</td>\n",
       "    </tr>\n",
       "    <tr>\n",
       "      <th>1</th>\n",
       "      <td>Sneakers</td>\n",
       "      <td>8635</td>\n",
       "      <td>145</td>\n",
       "    </tr>\n",
       "    <tr>\n",
       "      <th>2</th>\n",
       "      <td>Shoes</td>\n",
       "      <td>9240</td>\n",
       "      <td>150</td>\n",
       "    </tr>\n",
       "    <tr>\n",
       "      <th>3</th>\n",
       "      <td>Boots</td>\n",
       "      <td>9018</td>\n",
       "      <td>144</td>\n",
       "    </tr>\n",
       "  </tbody>\n",
       "</table>\n",
       "</div>"
      ],
      "text/plain": [
       "   Footwear  Purchase Amount (USD)  Count\n",
       "0   Sandals                   9200    160\n",
       "1  Sneakers                   8635    145\n",
       "2     Shoes                   9240    150\n",
       "3     Boots                   9018    144"
      ]
     },
     "execution_count": 78,
     "metadata": {},
     "output_type": "execute_result"
    }
   ],
   "source": [
    "FootwearCategoryItemWisePurchase"
   ]
  },
  {
   "cell_type": "code",
   "execution_count": 79,
   "id": "4074e05c-dfd5-4b55-be41-25fc4a432d4e",
   "metadata": {},
   "outputs": [
    {
     "data": {
      "text/html": [
       "<div>\n",
       "<style scoped>\n",
       "    .dataframe tbody tr th:only-of-type {\n",
       "        vertical-align: middle;\n",
       "    }\n",
       "\n",
       "    .dataframe tbody tr th {\n",
       "        vertical-align: top;\n",
       "    }\n",
       "\n",
       "    .dataframe thead th {\n",
       "        text-align: right;\n",
       "    }\n",
       "</style>\n",
       "<table border=\"1\" class=\"dataframe\">\n",
       "  <thead>\n",
       "    <tr style=\"text-align: right;\">\n",
       "      <th></th>\n",
       "      <th>Outerwear</th>\n",
       "      <th>Purchase Amount (USD)</th>\n",
       "      <th>Count</th>\n",
       "    </tr>\n",
       "  </thead>\n",
       "  <tbody>\n",
       "    <tr>\n",
       "      <th>0</th>\n",
       "      <td>Coat</td>\n",
       "      <td>9275</td>\n",
       "      <td>161</td>\n",
       "    </tr>\n",
       "    <tr>\n",
       "      <th>1</th>\n",
       "      <td>Jacket</td>\n",
       "      <td>9249</td>\n",
       "      <td>163</td>\n",
       "    </tr>\n",
       "  </tbody>\n",
       "</table>\n",
       "</div>"
      ],
      "text/plain": [
       "  Outerwear  Purchase Amount (USD)  Count\n",
       "0      Coat                   9275    161\n",
       "1    Jacket                   9249    163"
      ]
     },
     "execution_count": 79,
     "metadata": {},
     "output_type": "execute_result"
    }
   ],
   "source": [
    "OuterwearCategoryItemWisePurchase"
   ]
  },
  {
   "cell_type": "code",
   "execution_count": 80,
   "id": "668b3b00-4da0-4051-8112-3f772ecab83d",
   "metadata": {},
   "outputs": [
    {
     "data": {
      "text/html": [
       "<div>\n",
       "<style scoped>\n",
       "    .dataframe tbody tr th:only-of-type {\n",
       "        vertical-align: middle;\n",
       "    }\n",
       "\n",
       "    .dataframe tbody tr th {\n",
       "        vertical-align: top;\n",
       "    }\n",
       "\n",
       "    .dataframe thead th {\n",
       "        text-align: right;\n",
       "    }\n",
       "</style>\n",
       "<table border=\"1\" class=\"dataframe\">\n",
       "  <thead>\n",
       "    <tr style=\"text-align: right;\">\n",
       "      <th></th>\n",
       "      <th>Accessories</th>\n",
       "      <th>Purchase Amount (USD)</th>\n",
       "      <th>Count</th>\n",
       "    </tr>\n",
       "  </thead>\n",
       "  <tbody>\n",
       "    <tr>\n",
       "      <th>0</th>\n",
       "      <td>Handbag</td>\n",
       "      <td>8857</td>\n",
       "      <td>153</td>\n",
       "    </tr>\n",
       "    <tr>\n",
       "      <th>1</th>\n",
       "      <td>Sunglasses</td>\n",
       "      <td>9649</td>\n",
       "      <td>161</td>\n",
       "    </tr>\n",
       "    <tr>\n",
       "      <th>2</th>\n",
       "      <td>Jewelry</td>\n",
       "      <td>10010</td>\n",
       "      <td>171</td>\n",
       "    </tr>\n",
       "    <tr>\n",
       "      <th>3</th>\n",
       "      <td>Scarf</td>\n",
       "      <td>9561</td>\n",
       "      <td>157</td>\n",
       "    </tr>\n",
       "    <tr>\n",
       "      <th>4</th>\n",
       "      <td>Hat</td>\n",
       "      <td>9375</td>\n",
       "      <td>154</td>\n",
       "    </tr>\n",
       "    <tr>\n",
       "      <th>5</th>\n",
       "      <td>Backpack</td>\n",
       "      <td>8636</td>\n",
       "      <td>143</td>\n",
       "    </tr>\n",
       "    <tr>\n",
       "      <th>6</th>\n",
       "      <td>Belt</td>\n",
       "      <td>9635</td>\n",
       "      <td>161</td>\n",
       "    </tr>\n",
       "    <tr>\n",
       "      <th>7</th>\n",
       "      <td>Gloves</td>\n",
       "      <td>8477</td>\n",
       "      <td>140</td>\n",
       "    </tr>\n",
       "  </tbody>\n",
       "</table>\n",
       "</div>"
      ],
      "text/plain": [
       "  Accessories  Purchase Amount (USD)  Count\n",
       "0     Handbag                   8857    153\n",
       "1  Sunglasses                   9649    161\n",
       "2     Jewelry                  10010    171\n",
       "3       Scarf                   9561    157\n",
       "4         Hat                   9375    154\n",
       "5    Backpack                   8636    143\n",
       "6        Belt                   9635    161\n",
       "7      Gloves                   8477    140"
      ]
     },
     "execution_count": 80,
     "metadata": {},
     "output_type": "execute_result"
    }
   ],
   "source": [
    "AccessoriesCategoryItemWisePurchase"
   ]
  },
  {
   "cell_type": "code",
   "execution_count": 81,
   "id": "8cc7d47e-bcd7-49a4-99f5-6c4f999f6554",
   "metadata": {},
   "outputs": [
    {
     "data": {
      "text/plain": [
       "Customer ID                 0\n",
       "Age                         0\n",
       "Gender                      0\n",
       "Item Purchased              0\n",
       "Category                    0\n",
       "Purchase Amount (USD)       0\n",
       "Location                    0\n",
       "Size                        0\n",
       "Color                       0\n",
       "Season                      0\n",
       "Review Rating               0\n",
       "Subscription Status         0\n",
       "Payment Method              0\n",
       "Shipping Type               0\n",
       "Discount Applied            0\n",
       "Promo Code Used             0\n",
       "Previous Purchases          0\n",
       "Preferred Payment Method    0\n",
       "Frequency of Purchases      0\n",
       "dtype: int64"
      ]
     },
     "execution_count": 81,
     "metadata": {},
     "output_type": "execute_result"
    }
   ],
   "source": [
    "shopping_trends_df.isnull().sum()"
   ]
  },
  {
   "cell_type": "raw",
   "id": "9f3a9941-4188-451e-b75c-c97e856af43e",
   "metadata": {},
   "source": [
    "Univariate Analysis"
   ]
  },
  {
   "cell_type": "code",
   "execution_count": 82,
   "id": "474e7ff6-cac7-41b9-8bbc-909e711a5fb3",
   "metadata": {},
   "outputs": [
    {
     "data": {
      "text/plain": [
       "array(['Clothing', 'Footwear', 'Outerwear', 'Accessories'], dtype=object)"
      ]
     },
     "execution_count": 82,
     "metadata": {},
     "output_type": "execute_result"
    }
   ],
   "source": [
    "CategoryType"
   ]
  },
  {
   "cell_type": "code",
   "execution_count": 83,
   "id": "bb6aab29-06f9-4655-a255-88e07a344f48",
   "metadata": {},
   "outputs": [
    {
     "data": {
      "text/html": [
       "<div>\n",
       "<style scoped>\n",
       "    .dataframe tbody tr th:only-of-type {\n",
       "        vertical-align: middle;\n",
       "    }\n",
       "\n",
       "    .dataframe tbody tr th {\n",
       "        vertical-align: top;\n",
       "    }\n",
       "\n",
       "    .dataframe thead th {\n",
       "        text-align: right;\n",
       "    }\n",
       "</style>\n",
       "<table border=\"1\" class=\"dataframe\">\n",
       "  <thead>\n",
       "    <tr style=\"text-align: right;\">\n",
       "      <th></th>\n",
       "      <th>Category</th>\n",
       "      <th>Purchase Amount (USD)</th>\n",
       "      <th>% Purchase</th>\n",
       "    </tr>\n",
       "  </thead>\n",
       "  <tbody>\n",
       "    <tr>\n",
       "      <th>0</th>\n",
       "      <td>Clothing</td>\n",
       "      <td>104264</td>\n",
       "      <td>44.73</td>\n",
       "    </tr>\n",
       "    <tr>\n",
       "      <th>1</th>\n",
       "      <td>Footwear</td>\n",
       "      <td>36093</td>\n",
       "      <td>15.49</td>\n",
       "    </tr>\n",
       "    <tr>\n",
       "      <th>2</th>\n",
       "      <td>Outerwear</td>\n",
       "      <td>18524</td>\n",
       "      <td>7.95</td>\n",
       "    </tr>\n",
       "    <tr>\n",
       "      <th>3</th>\n",
       "      <td>Accessories</td>\n",
       "      <td>74200</td>\n",
       "      <td>31.83</td>\n",
       "    </tr>\n",
       "  </tbody>\n",
       "</table>\n",
       "</div>"
      ],
      "text/plain": [
       "      Category  Purchase Amount (USD)  % Purchase\n",
       "0     Clothing                 104264       44.73\n",
       "1     Footwear                  36093       15.49\n",
       "2    Outerwear                  18524        7.95\n",
       "3  Accessories                  74200       31.83"
      ]
     },
     "execution_count": 83,
     "metadata": {},
     "output_type": "execute_result"
    }
   ],
   "source": [
    "CategoryWisePurchase"
   ]
  },
  {
   "cell_type": "code",
   "execution_count": 84,
   "id": "14cb75ed-127c-4564-a2ec-7e8de36cf8e9",
   "metadata": {},
   "outputs": [
    {
     "data": {
      "image/png": "[encoded data removed]",
      "text/plain": [
       "<Figure size 640x480 with 1 Axes>"
      ]
     },
     "metadata": {},
     "output_type": "display_data"
    },
    {
     "data": {
      "text/plain": [
       "<Figure size 20000x1000 with 0 Axes>"
      ]
     },
     "metadata": {},
     "output_type": "display_data"
    }
   ],
   "source": [
    "# Visualization for Clothing Category Item Wise Purchase\n",
    "x1=ClothingCategoryItemWisePurchase['Clothing']\n",
    "y1=ClothingCategoryItemWisePurchase['Purchase Amount (USD)']\n",
    "plt.xlabel(\"Clothing Type\")\n",
    "plt.ylabel(\"Amount in (USD)\")\n",
    "plt.title(\"Clothing Item\")\n",
    "barplotClothing=plt.bar(x=x1,height=y1,fc='purple',ec='black',width=0.2)\n",
    "plt.bar_label(barplotClothing,labels=y1,label_type='edge',padding=0.1)\n",
    "plt.figure(figsize=(200,10))\n",
    "plt.show()"
   ]
  },
  {
   "cell_type": "code",
   "execution_count": 85,
   "id": "93cf110a-56eb-4d2b-b1b5-fd4304e0c23e",
   "metadata": {},
   "outputs": [
    {
     "data": {
      "image/png": "[encoded data removed]",
      "text/plain": [
       "<Figure size 640x480 with 1 Axes>"
      ]
     },
     "metadata": {},
     "output_type": "display_data"
    }
   ],
   "source": [
    "plt.xlabel(\"Clothing Type\")\n",
    "plt.ylabel(\"Amount in (USD)\")\n",
    "plt.title(\"Clothing Item\")\n",
    "plt.plot(x1,y1,marker=\"o\",mfc=\"purple\")\n",
    "plt.show()"
   ]
  },
  {
   "cell_type": "code",
   "execution_count": 86,
   "id": "a5b7bff8-5d87-4c4f-982f-550bf4100751",
   "metadata": {},
   "outputs": [
    {
     "data": {
      "image/png": "[encoded data removed]",
      "text/plain": [
       "<Figure size 640x480 with 1 Axes>"
      ]
     },
     "metadata": {},
     "output_type": "display_data"
    }
   ],
   "source": [
    "# visualization for category wise purchase\n",
    "x7=CategoryWisePurchase['Category']\n",
    "y7=CategoryWisePurchase['Purchase Amount (USD)']\n",
    "#plt.plot(x,y,marker=\"o\",linewidth=1,mfc=\"red\")\n",
    "plt.xlabel(\"Category Name\")\n",
    "plt.ylabel(\"Purchase Amount (USD)\")\n",
    "plt.title(\"Category vs Purchase Amount\")\n",
    "barplotCategory=plt.bar(x=x7,height=y7,fc='blue',ec='black')\n",
    "plt.bar_label(barplotCategory,labels=y7,label_type='edge',padding=0.1)\n",
    "plt.show()"
   ]
  },
  {
   "cell_type": "code",
   "execution_count": 87,
   "id": "6d68c70b-8c14-44a3-80f0-228acbc4398f",
   "metadata": {},
   "outputs": [
    {
     "data": {
      "image/png": "[encoded data removed]",
      "text/plain": [
       "<Figure size 640x480 with 1 Axes>"
      ]
     },
     "metadata": {},
     "output_type": "display_data"
    }
   ],
   "source": [
    "# Visualiztion for Footwear Item wise Purchase\n",
    "x2=FootwearCategoryItemWisePurchase['Footwear']\n",
    "y2=FootwearCategoryItemWisePurchase['Purchase Amount (USD)']\n",
    "plt.xlabel(\"Footwear Type\")\n",
    "plt.ylabel(\"Purchase Amount (USD)\")\n",
    "plt.title(\"Footwear Purchase Analysis\")\n",
    "#plt.plot(x2,y2,linewidth=3,marker=\"o\",mfc=\"purple\")\n",
    "barplotFootwear=plt.bar(x=x2,height=y2,fc='yellow',ec='black',width=0.1)\n",
    "plt.bar_label(barplotFootwear,labels=y2,label_type='edge',padding=0.2)\n",
    "plt.show()"
   ]
  },
  {
   "cell_type": "code",
   "execution_count": 88,
   "id": "207a0c9b-704b-4bd1-baca-ba3e09c0af8c",
   "metadata": {},
   "outputs": [
    {
     "data": {
      "text/plain": [
       "[<matplotlib.lines.Line2D at 0x25f98a71e50>]"
      ]
     },
     "execution_count": 88,
     "metadata": {},
     "output_type": "execute_result"
    },
    {
     "data": {
      "image/png": "[encoded data removed]",
      "text/plain": [
       "<Figure size 640x480 with 1 Axes>"
      ]
     },
     "metadata": {},
     "output_type": "display_data"
    }
   ],
   "source": [
    "plt.xlabel(\"Footwear Type\")\n",
    "plt.ylabel(\"Purchase Amount (USD)\")\n",
    "plt.title(\"Footwear Purchase Analysis\")\n",
    "plt.plot(x2,y2,linewidth=3,marker=\"o\",mfc=\"purple\")"
   ]
  },
  {
   "cell_type": "code",
   "execution_count": 89,
   "id": "e7a55ab3-ee2b-44f2-b164-4847540c61f5",
   "metadata": {},
   "outputs": [
    {
     "data": {
      "image/png": "[encoded data removed]",
      "text/plain": [
       "<Figure size 640x480 with 1 Axes>"
      ]
     },
     "metadata": {},
     "output_type": "display_data"
    }
   ],
   "source": [
    "x3=OuterwearCategoryItemWisePurchase['Outerwear']\n",
    "y3=OuterwearCategoryItemWisePurchase['Purchase Amount (USD)']\n",
    "plt.xlabel(\"Outerwear Type\")\n",
    "plt.ylabel(\"Purchase Amount (USD)\")\n",
    "plt.title(\"Outerwear Analysis\")\n",
    "#plt.plot(x3,y3,linewidth=4,marker=\"o\",mfc=\"green\")\n",
    "barplotOuterwear=plt.bar(x=x3,height=y3,fc='orange',ec='black',width=0.1)\n",
    "plt.bar_label(barplotOuterwear,labels=y3,label_type='edge',padding=1)\n",
    "plt.show()\n"
   ]
  },
  {
   "cell_type": "code",
   "execution_count": 90,
   "id": "43c1d6a3-6603-4116-b5c5-197e3ae376e0",
   "metadata": {},
   "outputs": [
    {
     "data": {
      "text/plain": [
       "[<matplotlib.lines.Line2D at 0x25f98abd400>]"
      ]
     },
     "execution_count": 90,
     "metadata": {},
     "output_type": "execute_result"
    },
    {
     "data": {
      "image/png": "[encoded data removed]",
      "text/plain": [
       "<Figure size 640x480 with 1 Axes>"
      ]
     },
     "metadata": {},
     "output_type": "display_data"
    }
   ],
   "source": [
    "## line chart presentation of Outerwear Analysis\n",
    "plt.xlabel(\"Outerwear Type\")\n",
    "plt.ylabel(\"Purchase Amount (USD)\")\n",
    "plt.title(\"Outerwear Analysis\")\n",
    "plt.plot(x3,y3,linewidth=4,marker=\"o\",mfc=\"green\")"
   ]
  },
  {
   "cell_type": "code",
   "execution_count": 91,
   "id": "6bc0e1cd-6f06-4342-97db-cd302b83fa3c",
   "metadata": {},
   "outputs": [
    {
     "data": {
      "text/plain": [
       "[Text(0, 1, '58607'),\n",
       " Text(0, 1, '58679'),\n",
       " Text(0, 1, '55777'),\n",
       " Text(0, 1, '60018')]"
      ]
     },
     "execution_count": 91,
     "metadata": {},
     "output_type": "execute_result"
    },
    {
     "data": {
      "image/png": "[encoded data removed]",
      "text/plain": [
       "<Figure size 640x480 with 1 Axes>"
      ]
     },
     "metadata": {},
     "output_type": "display_data"
    }
   ],
   "source": [
    "#Visual presentation of season wise Purchase \n",
    "x5=SeasonWisePurchase['Season']\n",
    "y5=SeasonWisePurchase['Purchase Amount (USD)']\n",
    "plt.xlabel('Season')\n",
    "plt.ylabel('Purchase Amount (USD)')\n",
    "plt.title('Season Wise Purchase Analysis')\n",
    "barplotseason=plt.bar(x=x5,height=y5,fc='purple',ec='black',width=0.2)\n",
    "plt.bar_label(barplotseason,labels=y5,label_type='edge',padding=1)\n"
   ]
  },
  {
   "cell_type": "code",
   "execution_count": 92,
   "id": "b09fddc7-f69d-4106-b251-1be5f998742d",
   "metadata": {},
   "outputs": [
    {
     "data": {
      "text/html": [
       "<div>\n",
       "<style scoped>\n",
       "    .dataframe tbody tr th:only-of-type {\n",
       "        vertical-align: middle;\n",
       "    }\n",
       "\n",
       "    .dataframe tbody tr th {\n",
       "        vertical-align: top;\n",
       "    }\n",
       "\n",
       "    .dataframe thead th {\n",
       "        text-align: right;\n",
       "    }\n",
       "</style>\n",
       "<table border=\"1\" class=\"dataframe\">\n",
       "  <thead>\n",
       "    <tr style=\"text-align: right;\">\n",
       "      <th></th>\n",
       "      <th>Payment Method</th>\n",
       "      <th>Purchase Amount (USD)</th>\n",
       "      <th>Payment Counts</th>\n",
       "    </tr>\n",
       "  </thead>\n",
       "  <tbody>\n",
       "    <tr>\n",
       "      <th>0</th>\n",
       "      <td>Credit Card</td>\n",
       "      <td>42567</td>\n",
       "      <td>696</td>\n",
       "    </tr>\n",
       "    <tr>\n",
       "      <th>1</th>\n",
       "      <td>Bank Transfer</td>\n",
       "      <td>37123</td>\n",
       "      <td>632</td>\n",
       "    </tr>\n",
       "    <tr>\n",
       "      <th>2</th>\n",
       "      <td>Cash</td>\n",
       "      <td>38833</td>\n",
       "      <td>648</td>\n",
       "    </tr>\n",
       "    <tr>\n",
       "      <th>3</th>\n",
       "      <td>PayPal</td>\n",
       "      <td>37449</td>\n",
       "      <td>638</td>\n",
       "    </tr>\n",
       "    <tr>\n",
       "      <th>4</th>\n",
       "      <td>Venmo</td>\n",
       "      <td>39991</td>\n",
       "      <td>653</td>\n",
       "    </tr>\n",
       "    <tr>\n",
       "      <th>5</th>\n",
       "      <td>Debit Card</td>\n",
       "      <td>37118</td>\n",
       "      <td>633</td>\n",
       "    </tr>\n",
       "  </tbody>\n",
       "</table>\n",
       "</div>"
      ],
      "text/plain": [
       "  Payment Method  Purchase Amount (USD)  Payment Counts\n",
       "0    Credit Card                  42567             696\n",
       "1  Bank Transfer                  37123             632\n",
       "2           Cash                  38833             648\n",
       "3         PayPal                  37449             638\n",
       "4          Venmo                  39991             653\n",
       "5     Debit Card                  37118             633"
      ]
     },
     "execution_count": 92,
     "metadata": {},
     "output_type": "execute_result"
    }
   ],
   "source": [
    "PaymentMethodWisePurchase"
   ]
  },
  {
   "cell_type": "code",
   "execution_count": 93,
   "id": "1dd665b8-8779-4624-a96a-06c23b38b728",
   "metadata": {},
   "outputs": [
    {
     "data": {
      "image/png": "[encoded data removed]",
      "text/plain": [
       "<Figure size 640x480 with 1 Axes>"
      ]
     },
     "metadata": {},
     "output_type": "display_data"
    }
   ],
   "source": [
    "# visual presentation of payment method wise purchase\n",
    "x6=PaymentMethodWisePurchase['Payment Method']\n",
    "#x6=[i for i in PaymentMethodWisePurchase['Purchase Amount(USD)']]\n",
    "y6=PaymentMethodWisePurchase['Purchase Amount (USD)']\n",
    "plt.xlabel('Payment Method')\n",
    "plt.ylabel('Purchase Amount (USD)')\n",
    "plt.title('Payment Method Wise Analysis')\n",
    "barplotpayment=plt.bar(x=x6,height=y6,fc='green',ec='black',width=0.3)\n",
    "plt.bar_label(barplotpayment,labels=y6,label_type='edge',padding=1)\n",
    "plt.show()\n"
   ]
  },
  {
   "cell_type": "code",
   "execution_count": 94,
   "id": "7c415b66-17d4-4ecd-b5e3-51608ebe653f",
   "metadata": {},
   "outputs": [
    {
     "data": {
      "text/plain": [
       "[Text(0, 0.3, '8857'),\n",
       " Text(0, 0.3, '9649'),\n",
       " Text(0, 0.3, '10010'),\n",
       " Text(0, 0.3, '9561'),\n",
       " Text(0, 0.3, '9375'),\n",
       " Text(0, 0.3, '8636'),\n",
       " Text(0, 0.3, '9635'),\n",
       " Text(0, 0.3, '8477')]"
      ]
     },
     "execution_count": 94,
     "metadata": {},
     "output_type": "execute_result"
    },
    {
     "data": {
      "image/png": "[encoded data removed]",
      "text/plain": [
       "<Figure size 640x480 with 1 Axes>"
      ]
     },
     "metadata": {},
     "output_type": "display_data"
    }
   ],
   "source": [
    "## visual presentation of Accessories Category Item  Wise  Purchase\n",
    "x8=AccessoriesCategoryItemWisePurchase['Accessories']\n",
    "y8=AccessoriesCategoryItemWisePurchase['Purchase Amount (USD)']\n",
    "plt.xlabel('Accessories')\n",
    "plt.ylabel('Purchase Amount')\n",
    "plt.title('Accessories Item Wise Purchase')\n",
    "barplotAccessories=plt.bar(x=x8,height=y8,fc='red',ec='black',width=0.3)\n",
    "plt.bar_label(barplotAccessories,labels=y8,label_type='edge',padding=0.3)"
   ]
  },
  {
   "cell_type": "code",
   "execution_count": null,
   "id": "8ef4f3bd-ea37-4f1e-bb26-e2230f80f3c3",
   "metadata": {},
   "outputs": [],
   "source": []
  },
  {
   "cell_type": "code",
   "execution_count": null,
   "id": "a7cd3874-2f11-4775-9d75-a25170f399f5",
   "metadata": {},
   "outputs": [],
   "source": [
    "\n",
    "    "
   ]
  },
  {
   "cell_type": "code",
   "execution_count": null,
   "id": "f2ac4640-0a37-4d2d-9bdf-f5827cce176e",
   "metadata": {},
   "outputs": [],
   "source": []
  },
  {
   "cell_type": "code",
   "execution_count": null,
   "id": "fa2cf8b7-fa2e-4dcc-9cec-a3a8fd931288",
   "metadata": {},
   "outputs": [],
   "source": []
  },
  {
   "cell_type": "code",
   "execution_count": null,
   "id": "68b074e5-9748-4c60-a5af-fa1f0d4fc138",
   "metadata": {},
   "outputs": [],
   "source": []
  },
  {
   "cell_type": "code",
   "execution_count": null,
   "id": "3524e567-f578-43a9-a352-006eb0e6cfe7",
   "metadata": {},
   "outputs": [],
   "source": []
  },
  {
   "cell_type": "code",
   "execution_count": null,
   "id": "e6617037-c5a4-4b82-9bc5-6de084fe2fa8",
   "metadata": {},
   "outputs": [],
   "source": []
  }
 ],
 "metadata": {
  "kernelspec": {
   "display_name": "Python 3 (ipykernel)",
   "language": "python",
   "name": "python3"
  },
  "language_info": {
   "codemirror_mode": {
    "name": "ipython",
    "version": 3
   },
   "file_extension": ".py",
   "mimetype": "text/x-python",
   "name": "python",
   "nbconvert_exporter": "python",
   "pygments_lexer": "ipython3",
   "version": "3.12.4"
  }
 },
 "nbformat": 4,
 "nbformat_minor": 5
}
